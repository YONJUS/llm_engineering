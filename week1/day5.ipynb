{
 "cells": [
  {
   "cell_type": "markdown",
   "id": "a98030af-fcd1-4d63-a36e-38ba053498fa",
   "metadata": {},
   "source": [
    "# A full business solution\n",
    "\n",
    "## Now we will take our project from Day 1 to the next level\n",
    "\n",
    "### BUSINESS CHALLENGE:\n",
    "\n",
    "Create a product that builds a Brochure for a company to be used for prospective clients, investors and potential recruits.\n",
    "\n",
    "We will be provided a company name and their primary website.\n",
    "\n",
    "See the end of this notebook for examples of real-world business applications.\n",
    "\n",
    "And remember: I'm always available if you have problems or ideas! Please do reach out."
   ]
  },
  {
   "cell_type": "code",
   "execution_count": 43,
   "id": "d5b08506-dc8b-4443-9201-5f1848161363",
   "metadata": {},
   "outputs": [],
   "source": [
    "# imports\n",
    "# If these fail, please check you're running from an 'activated' environment with (llms) in the command prompt\n",
    "\n",
    "import os\n",
    "import requests\n",
    "import json\n",
    "from typing import List\n",
    "from dotenv import load_dotenv\n",
    "from bs4 import BeautifulSoup\n",
    "from IPython.display import Markdown, display, update_display\n",
    "from openai import OpenAI"
   ]
  },
  {
   "cell_type": "code",
   "execution_count": 44,
   "id": "fc5d8880-f2ee-4c06-af16-ecbc0262af61",
   "metadata": {},
   "outputs": [
    {
     "name": "stdout",
     "output_type": "stream",
     "text": [
      "API key looks good so far\n"
     ]
    }
   ],
   "source": [
    "# Initialize and constants\n",
    "\n",
    "load_dotenv(override=True)\n",
    "api_key = os.getenv('OPENAI_API_KEY')\n",
    "\n",
    "if api_key and api_key.startswith('sk-proj-') and len(api_key)>10:\n",
    "    print(\"API key looks good so far\")\n",
    "else:\n",
    "    print(\"There might be a problem with your API key? Please visit the troubleshooting notebook!\")\n",
    "    \n",
    "MODEL = 'gpt-4o-mini'\n",
    "openai = OpenAI()"
   ]
  },
  {
   "cell_type": "code",
   "execution_count": 45,
   "id": "106dd65e-90af-4ca8-86b6-23a41840645b",
   "metadata": {},
   "outputs": [],
   "source": [
    "# A class to represent a Webpage\n",
    "\n",
    "# Some websites need you to use proper headers when fetching them:\n",
    "headers = {\n",
    " \"User-Agent\": \"Mozilla/5.0 (Windows NT 10.0; Win64; x64) AppleWebKit/537.36 (KHTML, like Gecko) Chrome/117.0.0.0 Safari/537.36\"\n",
    "}\n",
    "\n",
    "class Website:\n",
    "    \"\"\"\n",
    "    A utility class to represent a Website that we have scraped, now with links\n",
    "    \"\"\"\n",
    "\n",
    "    def __init__(self, url):\n",
    "        self.url = url\n",
    "        response = requests.get(url, headers=headers)\n",
    "        self.body = response.content\n",
    "        soup = BeautifulSoup(self.body, 'html.parser')\n",
    "        self.title = soup.title.string if soup.title else \"No title found\"\n",
    "        if soup.body:\n",
    "            for irrelevant in soup.body([\"script\", \"style\", \"img\", \"input\"]):\n",
    "                irrelevant.decompose()\n",
    "            self.text = soup.body.get_text(separator=\"\\n\", strip=True)\n",
    "        else:\n",
    "            self.text = \"\"\n",
    "        links = [link.get('href') for link in soup.find_all('a')] # gather any links reffered to on this page\n",
    "        self.links = [link for link in links if link] # collected links\n",
    "\n",
    "    def get_contents(self):\n",
    "        return f\"Webpage Title:\\n{self.title}\\nWebpage Contents:\\n{self.text}\\n\\n\""
   ]
  },
  {
   "cell_type": "code",
   "execution_count": 46,
   "id": "e30d8128-933b-44cc-81c8-ab4c9d86589a",
   "metadata": {},
   "outputs": [
    {
     "data": {
      "text/plain": [
       "['/entry/LLM-comparison',\n",
       " '/entry/generators-yield',\n",
       " '/entry/tistory-hELLO-skin',\n",
       " '/entry/taobao-large-cargo-2',\n",
       " '/entry/WinError-10014',\n",
       " '/?page=1',\n",
       " '/?page=2',\n",
       " '/?page=3',\n",
       " '/?page=4',\n",
       " '/?page=19',\n",
       " '/?page=2',\n",
       " 'https://quiseol.com/',\n",
       " '/category',\n",
       " '/category/IT%2C%20Computer',\n",
       " '/category/%EA%B7%B8%20%EC%99%B8%20%EA%B2%BD%ED%97%98%EA%B8%B0',\n",
       " 'https://www.instagram.com/seoquiseol',\n",
       " '/notice',\n",
       " '/entry/esim',\n",
       " '/entry/customs-import-declaration',\n",
       " '/entry/taobao-large-cargo-1',\n",
       " '/entry/shillahotel-s-membership-brown',\n",
       " '/entry/china-stopover-2',\n",
       " '/entry/LLM-comparison',\n",
       " '/entry/generators-yield',\n",
       " '/entry/tistory-hELLO-skin',\n",
       " '/entry/taobao-large-cargo-2',\n",
       " '/entry/WinError-10014',\n",
       " 'https://pronist.tistory.com/5',\n",
       " 'https://github.com/pronist',\n",
       " '#hELLO']"
      ]
     },
     "execution_count": 46,
     "metadata": {},
     "output_type": "execute_result"
    }
   ],
   "source": [
    "ed = Website(\"https://quiseol.com\")\n",
    "ed.links"
   ]
  },
  {
   "cell_type": "markdown",
   "id": "1771af9c-717a-4fca-bbbe-8a95893312c3",
   "metadata": {},
   "source": [
    "## First step: Have GPT-4o-mini figure out which links are relevant\n",
    "\n",
    "### Use a call to gpt-4o-mini to read the links on a webpage, and respond in structured JSON.  \n",
    "It should decide which links are relevant, and replace relative links such as \"/about\" with \"https://company.com/about\".  \n",
    "We will use \"one shot prompting\" in which we provide an example of how it should respond in the prompt.\n",
    "\n",
    "This is an excellent use case for an LLM, because it requires nuanced understanding. Imagine trying to code this without LLMs by parsing and analyzing the webpage - it would be very hard!\n",
    "\n",
    "Sidenote: there is a more advanced technique called \"Structured Outputs\" in which we require the model to respond according to a spec. We cover this technique in Week 8 during our autonomous Agentic AI project."
   ]
  },
  {
   "cell_type": "code",
   "execution_count": 47,
   "id": "6957b079-0d96-45f7-a26a-3487510e9b35",
   "metadata": {},
   "outputs": [],
   "source": [
    "link_system_prompt = \"You are provided with a list of links found on a webpage. \\\n",
    "You are able to decide which of the links would be most relevant to include in a brochure about the company, \\\n",
    "such as links to an About page, or a Company page, or Careers/Jobs pages.\\n\"\n",
    "link_system_prompt += \"You should respond in JSON as in this example:\"\n",
    "link_system_prompt += \"\"\"\n",
    "{\n",
    "    \"links\": [\n",
    "        {\"type\": \"about page\", \"url\": \"https://full.url/goes/here/about\"},\n",
    "        {\"type\": \"careers page\": \"url\": \"https://another.full.url/careers\"}\n",
    "    ]\n",
    "}\n",
    "\"\"\""
   ]
  },
  {
   "cell_type": "code",
   "execution_count": 48,
   "id": "b97e4068-97ed-4120-beae-c42105e4d59a",
   "metadata": {},
   "outputs": [
    {
     "name": "stdout",
     "output_type": "stream",
     "text": [
      "You are provided with a list of links found on a webpage. You are able to decide which of the links would be most relevant to include in a brochure about the company, such as links to an About page, or a Company page, or Careers/Jobs pages.\n",
      "You should respond in JSON as in this example:\n",
      "{\n",
      "    \"links\": [\n",
      "        {\"type\": \"about page\", \"url\": \"https://full.url/goes/here/about\"},\n",
      "        {\"type\": \"careers page\": \"url\": \"https://another.full.url/careers\"}\n",
      "    ]\n",
      "}\n",
      "\n"
     ]
    }
   ],
   "source": [
    "print(link_system_prompt)"
   ]
  },
  {
   "cell_type": "code",
   "execution_count": 49,
   "id": "8e1f601b-2eaf-499d-b6b8-c99050c9d6b3",
   "metadata": {},
   "outputs": [],
   "source": [
    "def get_links_user_prompt(website):\n",
    "    user_prompt = f\"Here is the list of links on the website of {website.url} - \"\n",
    "    user_prompt += \"please decide which of these are relevant web links for a brochure about the company, respond with the full https URL in JSON format. \\\n",
    "Do not include Terms of Service, Privacy, email links.\\n\"\n",
    "    user_prompt += \"Links (some might be relative links):\\n\"\n",
    "    user_prompt += \"\\n\".join(website.links)\n",
    "    return user_prompt"
   ]
  },
  {
   "cell_type": "code",
   "execution_count": 50,
   "id": "6bcbfa78-6395-4685-b92c-22d592050fd7",
   "metadata": {},
   "outputs": [
    {
     "name": "stdout",
     "output_type": "stream",
     "text": [
      "Here is the list of links on the website of https://quiseol.com - please decide which of these are relevant web links for a brochure about the company, respond with the full https URL in JSON format. Do not include Terms of Service, Privacy, email links.\n",
      "Links (some might be relative links):\n",
      "/entry/LLM-comparison\n",
      "/entry/generators-yield\n",
      "/entry/tistory-hELLO-skin\n",
      "/entry/taobao-large-cargo-2\n",
      "/entry/WinError-10014\n",
      "/?page=1\n",
      "/?page=2\n",
      "/?page=3\n",
      "/?page=4\n",
      "/?page=19\n",
      "/?page=2\n",
      "https://quiseol.com/\n",
      "/category\n",
      "/category/IT%2C%20Computer\n",
      "/category/%EA%B7%B8%20%EC%99%B8%20%EA%B2%BD%ED%97%98%EA%B8%B0\n",
      "https://www.instagram.com/seoquiseol\n",
      "/notice\n",
      "/entry/esim\n",
      "/entry/customs-import-declaration\n",
      "/entry/taobao-large-cargo-1\n",
      "/entry/shillahotel-s-membership-brown\n",
      "/entry/china-stopover-2\n",
      "/entry/LLM-comparison\n",
      "/entry/generators-yield\n",
      "/entry/tistory-hELLO-skin\n",
      "/entry/taobao-large-cargo-2\n",
      "/entry/WinError-10014\n",
      "https://pronist.tistory.com/5\n",
      "https://github.com/pronist\n",
      "#hELLO\n"
     ]
    }
   ],
   "source": [
    "print(get_links_user_prompt(ed))"
   ]
  },
  {
   "cell_type": "code",
   "execution_count": 51,
   "id": "a29aca19-ca13-471c-a4b4-5abbfa813f69",
   "metadata": {},
   "outputs": [],
   "source": [
    "def get_links(url):\n",
    "    website = Website(url)\n",
    "    response = openai.chat.completions.create(\n",
    "        model=MODEL,\n",
    "        messages=[\n",
    "            {\"role\": \"system\", \"content\": link_system_prompt},\n",
    "            {\"role\": \"user\", \"content\": get_links_user_prompt(website)}\n",
    "      ],\n",
    "        response_format={\"type\": \"json_object\"} #claude는 필요업슴\n",
    "    )\n",
    "    result = response.choices[0].message.content #choices는 다양한 variation이 있는데 그 중 하나 고른거임\n",
    "    return json.loads(result)"
   ]
  },
  {
   "cell_type": "code",
   "execution_count": 52,
   "id": "74a827a0-2782-4ae5-b210-4a242a8b4cc2",
   "metadata": {},
   "outputs": [
    {
     "data": {
      "text/plain": [
       "['/entry/LLM-comparison',\n",
       " '/entry/generators-yield',\n",
       " '/entry/tistory-hELLO-skin',\n",
       " '/entry/taobao-large-cargo-2',\n",
       " '/entry/WinError-10014',\n",
       " '/?page=1',\n",
       " '/?page=2',\n",
       " '/?page=3',\n",
       " '/?page=4',\n",
       " '/?page=19',\n",
       " '/?page=2',\n",
       " 'https://quiseol.com/',\n",
       " '/category',\n",
       " '/category/IT%2C%20Computer',\n",
       " '/category/%EA%B7%B8%20%EC%99%B8%20%EA%B2%BD%ED%97%98%EA%B8%B0',\n",
       " 'https://www.instagram.com/seoquiseol',\n",
       " '/notice',\n",
       " '/entry/esim',\n",
       " '/entry/customs-import-declaration',\n",
       " '/entry/taobao-large-cargo-1',\n",
       " '/entry/shillahotel-s-membership-brown',\n",
       " '/entry/china-stopover-2',\n",
       " '/entry/LLM-comparison',\n",
       " '/entry/generators-yield',\n",
       " '/entry/tistory-hELLO-skin',\n",
       " '/entry/taobao-large-cargo-2',\n",
       " '/entry/WinError-10014',\n",
       " 'https://pronist.tistory.com/5',\n",
       " 'https://github.com/pronist',\n",
       " '#hELLO']"
      ]
     },
     "execution_count": 52,
     "metadata": {},
     "output_type": "execute_result"
    }
   ],
   "source": [
    "# Anthropic has made their site harder to scrape, so I'm using HuggingFace..\n",
    "\n",
    "huggingface = Website(\"https://quiseol.com\")\n",
    "huggingface.links"
   ]
  },
  {
   "cell_type": "code",
   "execution_count": 54,
   "id": "d3d583e2-dcc4-40cc-9b28-1e8dbf402924",
   "metadata": {},
   "outputs": [
    {
     "data": {
      "text/plain": [
       "{'links': [{'type': 'company homepage', 'url': 'https://quiseol.com/'}]}"
      ]
     },
     "execution_count": 54,
     "metadata": {},
     "output_type": "execute_result"
    }
   ],
   "source": [
    "get_links(\"https://quiseol.com\")"
   ]
  },
  {
   "cell_type": "markdown",
   "id": "0d74128e-dfb6-47ec-9549-288b621c838c",
   "metadata": {},
   "source": [
    "## Second step: make the brochure!\n",
    "\n",
    "Assemble all the details into another prompt to GPT4-o"
   ]
  },
  {
   "cell_type": "code",
   "execution_count": 55,
   "id": "85a5b6e2-e7ef-44a9-bc7f-59ede71037b5",
   "metadata": {},
   "outputs": [],
   "source": [
    "def get_all_details(url): #url가져온 다음 gather information\n",
    "    result = \"Landing page:\\n\"\n",
    "    result += Website(url).get_contents()\n",
    "    links = get_links(url) #makes a call out to GPT\n",
    "    print(\"Found links:\", links)\n",
    "    for link in links[\"links\"]:\n",
    "        result += f\"\\n\\n{link['type']}\\n\"\n",
    "        result += Website(link[\"url\"]).get_contents()\n",
    "    return result"
   ]
  },
  {
   "cell_type": "code",
   "execution_count": 56,
   "id": "5099bd14-076d-4745-baf3-dac08d8e5ab2",
   "metadata": {},
   "outputs": [
    {
     "name": "stdout",
     "output_type": "stream",
     "text": [
      "Found links: {'links': [{'type': 'homepage', 'url': 'https://quiseol.com/'}]}\n",
      "Landing page:\n",
      "Webpage Title:\n",
      "QUISEOL — QUISEOL\n",
      "Webpage Contents:\n",
      "LLM 모델별(gpt, gemini, claude 등) 성능 비교하는 법\n",
      "2025.05.01\n",
      "·\n",
      "IT, Computer\n",
      "서론LLM 사용에 있어서 성능의 차이가 수치적으로 궁금할 수 있다. 아무래도 체감하는 것과 객관적인 지표는 다를 수 있으니까 말이다. 그런 의미에서 이번 포스팅에서는 LLM 모델을 모델별 성능 비교한 사이트에 들어가고 그 의미를 알아보도록 하겠다. 아래 사이트를 참고하여, 하나하나 그 의미를 알아보자. LLM Leaderboard 2025This AI leaderboard shows comparison of capabilities, price and context window for leading commercial and open-source LLMs, based on the benchmark data provided in technical reports in 2025.www.vellum.ai Rea..\n",
      "파이썬 제너레이터(generator), yield Python\n",
      "2025.04.30\n",
      "·\n",
      "IT, Computer\n",
      "서론파이썬에서는 yield 키워드를 통해 iterate하는 걸 볼 수 있다. 한 번에 하나의 요소를 통해 루프할 수 있는 방법이다. 특히 모든 것을 한 번에 메모리에 로드하고 싶지 않은 경우 한 번에 하나씩 데이터를 쉽게 처리할 수 있도록 하는 것이 목적이다. 쉽게 말해, 모든 데이터를 훑지 않고, 사용자가 원할 때 하나씩 값을 처리하는 것이다. 이렇게 값을 처리하는 방법을 Lazy Evaluation이라고 한다. 한 번에 하나씩 하는게 뭔말인지 아래 예제를 통해서 알아보자.yield 란?내가 아는 yield는 일본드라마인데(허허) 싶겠지만, 예제에 앞서 yield 키워드를 알아야 된다. return과 같은 역할을 수행하는데, return 자리에 yield가 있다면 그건 generator 함수라고 보면 ..\n",
      "티스토리 hELLO 스킨 적용 방법\n",
      "2025.04.10\n",
      "·\n",
      "IT, Computer\n",
      "서론hELLO 스킨을 쓰는데 내 블로그를 들어갈때마다 무한 로딩이 발생했다. 그래서 서치를 하니까 나와 같은 사람이 있는걸 확인했고, 버전의 차이인가 하여 다시 블로그 스킨을 업데이트 하고자 한다. 내가 분명 올해 2월에 바꿨어서, \"아래에서 말하는 24년 12월에 업데이트 된 4.10.2 버전 사용중일거 같긴한데.\"라고 생각하고 릴리즈 노트를 보니까 가장 최신건 4.10.3이었다. 그래도 이 역시 24년 12월에 업데이트 된것이었다. hELLO 스킨 다운 및 적용1아무튼 다시 하나하나 스킨을 적용하기 시작하겠다. 아래 깃허브 링크에 들어가 hELLO-dist.zip 파일을 다운 받은 뒤, 압축을 푼다.   Releases · pronist/hello😎 당신의 블로그를 위한 최고의 티스토리 스킨. Co..\n",
      "타오바오 가구, 대형 화물 구매기와 부피가 큰 제품을 사는 사람을 향한 조언 (2)\n",
      "2025.03.14\n",
      "·\n",
      "그 외 경험기\n",
      "서론그렇다. 나는 이번에 대형화물을 보내며 멍청비용을 써버렸다. 고능지출인줄 알았더니 멍청비용이었을때의 처참함이란. 차라리 모르고있다가 멍청비용 내는게 낫지 고능이라고 생각했다가 이리 되니까 어질어질하다. 여러분들은 이걸 보면서 나와 같은 실수를 하지 않길 바란다. 이번 포스팅에서는 어떤 실수를 저질렀으며 그 결과 도합 얼마가 들었는지, 제품은 잘 도착했는지, 추가요금은 얼만지에 대해 적도록 하겠다. 타오바오 가구, 대형 화물 구매기와 부피가 큰 제품을 사는 사람을 향한 조언 (1)서론때는 올해 1월, 나는 예쁜 쓰레기'통'에 꽂혔다. 분명 오래된 브랜드고 다양한 국가에서, 높은 가격으로 팔고있음에도 구글링이나 유튜브에 후기라는것이 별로 없었다. 한국에서만 유행인가quiseol.com멍청 비용 1: 대형..\n",
      "OSError: [WinError 10014] 호출에 대한 포인터 인수를 사용하려는 동안 시스템에서 잘못된 포인터 주소를 감지했습니다. 해결법\n",
      "2025.03.01\n",
      "·\n",
      "IT, Computer\n",
      "OSError: [WinError 10014] 원인 주피터 노트북을 vscode에서 사용할 때 간혹 OSError: [WinError 10014] 호출에 대한 포인터 인수를 사용하려는 동안 시스템에서 잘못된 포인터 주소를 감지했습니다. 라는 문구가 뜰 때가 있다. 검색을 해보면 window 공식 문서에서 \" 시스템에서 호출의 포인터 인수를 사용하려고 할 때 잘못된 포인터 주소를 검색했습니다. 이 오류는 애플리케이션이 잘못된 포인터 값을 전달하거나 버퍼 길이가 너무 작은 경우에 발생합니다. instance 경우 sockaddr 구조체인 인수의 길이가 sizeof(sockaddr)보다 작습니다.\" 라고 나온다.OSError: [WinError 10014] 해결 방법나는 이걸 해결하기 위해 포트를 변경하는 방..\n",
      "이전\n",
      "1\n",
      "2\n",
      "3\n",
      "4\n",
      "···\n",
      "19\n",
      "다음\n",
      "QUISEOL\n",
      "QUISEOL\n",
      "검색\n",
      "분류 전체보기\n",
      "(95)\n",
      "IT, Computer\n",
      "(46)\n",
      "그 외 경험기\n",
      "(49)\n",
      "블로그 메뉴\n",
      "링크\n",
      "insta\n",
      "공지사항\n",
      "인기 글\n",
      "이심(esim) 사용기 해외에서 국내 번호로 온 전화를 받⋯\n",
      "2024.06.12\n",
      "직구 수입(사용소비) 심사진행 왜, 얼마나 걸릴까?\n",
      "2024.11.06\n",
      "타오바오 가구, 대형 화물 구매기와 부피가 큰 제품을 사는⋯\n",
      "2025.02.03\n",
      "신라호텔 멤버십 신라 에스 (구)s 멤버십\n",
      "2025.01.08\n",
      "중국 무비자 환승 스탑오버(stopover), 레이오버(l⋯\n",
      "2024.06.14\n",
      "최근 글\n",
      "LLM 모델별(gpt, gemini, claude 등) 성⋯\n",
      "2025.05.01\n",
      "파이썬 제너레이터(generator), yield Pyth⋯\n",
      "2025.04.30\n",
      "티스토리 hELLO 스킨 적용 방법\n",
      "2025.04.10\n",
      "타오바오 가구, 대형 화물 구매기와 부피가 큰 제품을 사는⋯\n",
      "2025.03.14\n",
      "OSError: [WinError 10014] 호출에 대한⋯\n",
      "2025.03.01\n",
      "hELLO\n",
      "· Designed By\n",
      "정상우.\n",
      "v4.10.3\n",
      "QUISEOL\n",
      "테마\n",
      "상단으로\n",
      "티스토리툴바\n",
      "QUISEOL\n",
      "구독하기\n",
      "\n",
      "\n",
      "\n",
      "homepage\n",
      "Webpage Title:\n",
      "QUISEOL — QUISEOL\n",
      "Webpage Contents:\n",
      "LLM 모델별(gpt, gemini, claude 등) 성능 비교하는 법\n",
      "2025.05.01\n",
      "·\n",
      "IT, Computer\n",
      "서론LLM 사용에 있어서 성능의 차이가 수치적으로 궁금할 수 있다. 아무래도 체감하는 것과 객관적인 지표는 다를 수 있으니까 말이다. 그런 의미에서 이번 포스팅에서는 LLM 모델을 모델별 성능 비교한 사이트에 들어가고 그 의미를 알아보도록 하겠다. 아래 사이트를 참고하여, 하나하나 그 의미를 알아보자. LLM Leaderboard 2025This AI leaderboard shows comparison of capabilities, price and context window for leading commercial and open-source LLMs, based on the benchmark data provided in technical reports in 2025.www.vellum.ai Rea..\n",
      "파이썬 제너레이터(generator), yield Python\n",
      "2025.04.30\n",
      "·\n",
      "IT, Computer\n",
      "서론파이썬에서는 yield 키워드를 통해 iterate하는 걸 볼 수 있다. 한 번에 하나의 요소를 통해 루프할 수 있는 방법이다. 특히 모든 것을 한 번에 메모리에 로드하고 싶지 않은 경우 한 번에 하나씩 데이터를 쉽게 처리할 수 있도록 하는 것이 목적이다. 쉽게 말해, 모든 데이터를 훑지 않고, 사용자가 원할 때 하나씩 값을 처리하는 것이다. 이렇게 값을 처리하는 방법을 Lazy Evaluation이라고 한다. 한 번에 하나씩 하는게 뭔말인지 아래 예제를 통해서 알아보자.yield 란?내가 아는 yield는 일본드라마인데(허허) 싶겠지만, 예제에 앞서 yield 키워드를 알아야 된다. return과 같은 역할을 수행하는데, return 자리에 yield가 있다면 그건 generator 함수라고 보면 ..\n",
      "티스토리 hELLO 스킨 적용 방법\n",
      "2025.04.10\n",
      "·\n",
      "IT, Computer\n",
      "서론hELLO 스킨을 쓰는데 내 블로그를 들어갈때마다 무한 로딩이 발생했다. 그래서 서치를 하니까 나와 같은 사람이 있는걸 확인했고, 버전의 차이인가 하여 다시 블로그 스킨을 업데이트 하고자 한다. 내가 분명 올해 2월에 바꿨어서, \"아래에서 말하는 24년 12월에 업데이트 된 4.10.2 버전 사용중일거 같긴한데.\"라고 생각하고 릴리즈 노트를 보니까 가장 최신건 4.10.3이었다. 그래도 이 역시 24년 12월에 업데이트 된것이었다. hELLO 스킨 다운 및 적용1아무튼 다시 하나하나 스킨을 적용하기 시작하겠다. 아래 깃허브 링크에 들어가 hELLO-dist.zip 파일을 다운 받은 뒤, 압축을 푼다.   Releases · pronist/hello😎 당신의 블로그를 위한 최고의 티스토리 스킨. Co..\n",
      "타오바오 가구, 대형 화물 구매기와 부피가 큰 제품을 사는 사람을 향한 조언 (2)\n",
      "2025.03.14\n",
      "·\n",
      "그 외 경험기\n",
      "서론그렇다. 나는 이번에 대형화물을 보내며 멍청비용을 써버렸다. 고능지출인줄 알았더니 멍청비용이었을때의 처참함이란. 차라리 모르고있다가 멍청비용 내는게 낫지 고능이라고 생각했다가 이리 되니까 어질어질하다. 여러분들은 이걸 보면서 나와 같은 실수를 하지 않길 바란다. 이번 포스팅에서는 어떤 실수를 저질렀으며 그 결과 도합 얼마가 들었는지, 제품은 잘 도착했는지, 추가요금은 얼만지에 대해 적도록 하겠다. 타오바오 가구, 대형 화물 구매기와 부피가 큰 제품을 사는 사람을 향한 조언 (1)서론때는 올해 1월, 나는 예쁜 쓰레기'통'에 꽂혔다. 분명 오래된 브랜드고 다양한 국가에서, 높은 가격으로 팔고있음에도 구글링이나 유튜브에 후기라는것이 별로 없었다. 한국에서만 유행인가quiseol.com멍청 비용 1: 대형..\n",
      "OSError: [WinError 10014] 호출에 대한 포인터 인수를 사용하려는 동안 시스템에서 잘못된 포인터 주소를 감지했습니다. 해결법\n",
      "2025.03.01\n",
      "·\n",
      "IT, Computer\n",
      "OSError: [WinError 10014] 원인 주피터 노트북을 vscode에서 사용할 때 간혹 OSError: [WinError 10014] 호출에 대한 포인터 인수를 사용하려는 동안 시스템에서 잘못된 포인터 주소를 감지했습니다. 라는 문구가 뜰 때가 있다. 검색을 해보면 window 공식 문서에서 \" 시스템에서 호출의 포인터 인수를 사용하려고 할 때 잘못된 포인터 주소를 검색했습니다. 이 오류는 애플리케이션이 잘못된 포인터 값을 전달하거나 버퍼 길이가 너무 작은 경우에 발생합니다. instance 경우 sockaddr 구조체인 인수의 길이가 sizeof(sockaddr)보다 작습니다.\" 라고 나온다.OSError: [WinError 10014] 해결 방법나는 이걸 해결하기 위해 포트를 변경하는 방..\n",
      "이전\n",
      "1\n",
      "2\n",
      "3\n",
      "4\n",
      "···\n",
      "19\n",
      "다음\n",
      "QUISEOL\n",
      "QUISEOL\n",
      "검색\n",
      "분류 전체보기\n",
      "(95)\n",
      "IT, Computer\n",
      "(46)\n",
      "그 외 경험기\n",
      "(49)\n",
      "블로그 메뉴\n",
      "링크\n",
      "insta\n",
      "공지사항\n",
      "인기 글\n",
      "이심(esim) 사용기 해외에서 국내 번호로 온 전화를 받⋯\n",
      "2024.06.12\n",
      "직구 수입(사용소비) 심사진행 왜, 얼마나 걸릴까?\n",
      "2024.11.06\n",
      "타오바오 가구, 대형 화물 구매기와 부피가 큰 제품을 사는⋯\n",
      "2025.02.03\n",
      "신라호텔 멤버십 신라 에스 (구)s 멤버십\n",
      "2025.01.08\n",
      "중국 무비자 환승 스탑오버(stopover), 레이오버(l⋯\n",
      "2024.06.14\n",
      "최근 글\n",
      "LLM 모델별(gpt, gemini, claude 등) 성⋯\n",
      "2025.05.01\n",
      "파이썬 제너레이터(generator), yield Pyth⋯\n",
      "2025.04.30\n",
      "티스토리 hELLO 스킨 적용 방법\n",
      "2025.04.10\n",
      "타오바오 가구, 대형 화물 구매기와 부피가 큰 제품을 사는⋯\n",
      "2025.03.14\n",
      "OSError: [WinError 10014] 호출에 대한⋯\n",
      "2025.03.01\n",
      "hELLO\n",
      "· Designed By\n",
      "정상우.\n",
      "v4.10.3\n",
      "QUISEOL\n",
      "테마\n",
      "상단으로\n",
      "티스토리툴바\n",
      "QUISEOL\n",
      "구독하기\n",
      "\n",
      "\n"
     ]
    }
   ],
   "source": [
    "print(get_all_details(\"https://quiseol.com\"))"
   ]
  },
  {
   "cell_type": "code",
   "execution_count": 61,
   "id": "9b863a55-f86c-4e3f-8a79-94e24c1a8cf2",
   "metadata": {},
   "outputs": [],
   "source": [
    "system_prompt = \"You are an assistant that analyzes the contents of several relevant pages from a company website \\\n",
    "and creates a short brochure about the company for prospective customers, investors and recruits. Respond in markdown.\\\n",
    "Include details of company culture, customers and careers/jobs if you have the information.\"\n",
    "\n",
    "# Or uncomment the lines below for a more humorous brochure - this demonstrates how easy it is to incorporate 'tone':\n",
    "\n",
    "# system_prompt =  \"You are an assistant that analyzes the contents of several relevant pages from a company website \\\n",
    "# and creates a short humorous, entertaining, jokey brochure about the company for prospective customers, investors and recruits. Respond in markdown.\\\n",
    "# Include details of company culture, customers and careers/jobs if you have the information.\"\n"
   ]
  },
  {
   "cell_type": "code",
   "execution_count": 62,
   "id": "6ab83d92-d36b-4ce0-8bcc-5bb4c2f8ff23",
   "metadata": {},
   "outputs": [],
   "source": [
    "def get_brochure_user_prompt(company_name, url):\n",
    "    user_prompt = f\"You are looking at a company called: {company_name}\\n\"\n",
    "    user_prompt += f\"Here are the contents of its landing page and other relevant pages; use this information to build a short brochure of the company in markdown.\\n\"\n",
    "    user_prompt += get_all_details(url)\n",
    "    user_prompt = user_prompt[:5_000] # Truncate if more than 5,000 characters\n",
    "    return user_prompt"
   ]
  },
  {
   "cell_type": "code",
   "execution_count": 65,
   "id": "cd909e0b-1312-4ce2-a553-821e795d7572",
   "metadata": {},
   "outputs": [
    {
     "name": "stdout",
     "output_type": "stream",
     "text": [
      "Found links: {'links': [{'type': 'homepage', 'url': 'https://quiseol.com/'}]}\n"
     ]
    },
    {
     "data": {
      "text/plain": [
       "'You are looking at a company called: HuggingFace\\nHere are the contents of its landing page and other relevant pages; use this information to build a short brochure of the company in markdown.\\nLanding page:\\nWebpage Title:\\nQUISEOL — QUISEOL\\nWebpage Contents:\\nLLM 모델별(gpt, gemini, claude 등) 성능 비교하는 법\\n2025.05.01\\n·\\nIT, Computer\\n서론LLM 사용에 있어서 성능의 차이가 수치적으로 궁금할 수 있다. 아무래도 체감하는 것과 객관적인 지표는 다를 수 있으니까 말이다. 그런 의미에서 이번 포스팅에서는 LLM 모델을 모델별 성능 비교한 사이트에 들어가고 그 의미를 알아보도록 하겠다. 아래 사이트를 참고하여, 하나하나 그 의미를 알아보자. LLM Leaderboard 2025This AI leaderboard shows comparison of capabilities, price and context window for leading commercial and open-source LLMs, based on the benchmark data provided in technical reports in 2025.www.vellum.ai Rea..\\n파이썬 제너레이터(generator), yield Python\\n2025.04.30\\n·\\nIT, Computer\\n서론파이썬에서는 yield 키워드를 통해 iterate하는 걸 볼 수 있다. 한 번에 하나의 요소를 통해 루프할 수 있는 방법이다. 특히 모든 것을 한 번에 메모리에 로드하고 싶지 않은 경우 한 번에 하나씩 데이터를 쉽게 처리할 수 있도록 하는 것이 목적이다. 쉽게 말해, 모든 데이터를 훑지 않고, 사용자가 원할 때 하나씩 값을 처리하는 것이다. 이렇게 값을 처리하는 방법을 Lazy Evaluation이라고 한다. 한 번에 하나씩 하는게 뭔말인지 아래 예제를 통해서 알아보자.yield 란?내가 아는 yield는 일본드라마인데(허허) 싶겠지만, 예제에 앞서 yield 키워드를 알아야 된다. return과 같은 역할을 수행하는데, return 자리에 yield가 있다면 그건 generator 함수라고 보면 ..\\n티스토리 hELLO 스킨 적용 방법\\n2025.04.10\\n·\\nIT, Computer\\n서론hELLO 스킨을 쓰는데 내 블로그를 들어갈때마다 무한 로딩이 발생했다. 그래서 서치를 하니까 나와 같은 사람이 있는걸 확인했고, 버전의 차이인가 하여 다시 블로그 스킨을 업데이트 하고자 한다. 내가 분명 올해 2월에 바꿨어서, \"아래에서 말하는 24년 12월에 업데이트 된 4.10.2 버전 사용중일거 같긴한데.\"라고 생각하고 릴리즈 노트를 보니까 가장 최신건 4.10.3이었다. 그래도 이 역시 24년 12월에 업데이트 된것이었다.\\xa0hELLO 스킨 다운 및 적용1아무튼 다시 하나하나 스킨을 적용하기 시작하겠다. 아래 깃허브 링크에 들어가 hELLO-dist.zip 파일을 다운 받은 뒤, 압축을 푼다.\\xa0\\xa0\\xa0Releases · pronist/hello😎 당신의 블로그를 위한 최고의 티스토리 스킨. Co..\\n타오바오 가구, 대형 화물 구매기와 부피가 큰 제품을 사는 사람을 향한 조언 (2)\\n2025.03.14\\n·\\n그 외 경험기\\n서론그렇다. 나는 이번에 대형화물을 보내며 멍청비용을 써버렸다. 고능지출인줄 알았더니 멍청비용이었을때의 처참함이란. 차라리 모르고있다가 멍청비용 내는게 낫지 고능이라고 생각했다가 이리 되니까 어질어질하다. 여러분들은 이걸 보면서 나와 같은 실수를 하지 않길 바란다. 이번 포스팅에서는 어떤 실수를 저질렀으며 그 결과 도합 얼마가 들었는지, 제품은 잘 도착했는지, 추가요금은 얼만지에 대해 적도록 하겠다.\\xa0타오바오 가구, 대형 화물 구매기와 부피가 큰 제품을 사는 사람을 향한 조언 (1)서론때는 올해 1월, 나는 예쁜 쓰레기\\'통\\'에 꽂혔다. 분명 오래된 브랜드고 다양한 국가에서, 높은 가격으로 팔고있음에도 구글링이나 유튜브에 후기라는것이 별로 없었다. 한국에서만 유행인가quiseol.com멍청 비용 1: 대형..\\nOSError: [WinError 10014] 호출에 대한 포인터 인수를 사용하려는 동안 시스템에서 잘못된 포인터 주소를 감지했습니다. 해결법\\n2025.03.01\\n·\\nIT, Computer\\nOSError: [WinError 10014] 원인\\xa0주피터 노트북을 vscode에서 사용할 때 간혹 OSError: [WinError 10014] 호출에 대한 포인터 인수를 사용하려는 동안 시스템에서 잘못된 포인터 주소를 감지했습니다. 라는 문구가 뜰 때가 있다. 검색을 해보면 window 공식 문서에서 \" 시스템에서 호출의 포인터 인수를 사용하려고 할 때 잘못된 포인터 주소를 검색했습니다. 이 오류는 애플리케이션이 잘못된 포인터 값을 전달하거나 버퍼 길이가 너무 작은 경우에 발생합니다. instance 경우\\xa0sockaddr\\xa0구조체인 인수의 길이가 sizeof(sockaddr)보다 작습니다.\" 라고 나온다.OSError: [WinError 10014] 해결 방법나는 이걸 해결하기 위해 포트를 변경하는 방..\\n이전\\n1\\n2\\n3\\n4\\n···\\n19\\n다음\\nQUISEOL\\nQUISEOL\\n검색\\n분류 전체보기\\n(95)\\nIT, Computer\\n(46)\\n그 외 경험기\\n(49)\\n블로그 메뉴\\n링크\\ninsta\\n공지사항\\n인기 글\\n이심(esim) 사용기 해외에서 국내 번호로 온 전화를 받⋯\\n2024.06.12\\n직구 수입(사용소비) 심사진행 왜, 얼마나 걸릴까?\\n2024.11.06\\n타오바오 가구, 대형 화물 구매기와 부피가 큰 제품을 사는⋯\\n2025.02.03\\n신라호텔 멤버십 신라 에스 (구)s 멤버십\\n2025.01.08\\n중국 무비자 환승 스탑오버(stopover), 레이오버(l⋯\\n2024.06.14\\n최근 글\\nLLM 모델별(gpt, gemini, claude 등) 성⋯\\n2025.05.01\\n파이썬 제너레이터(generator), yield Pyth⋯\\n2025.04.30\\n티스토리 hELLO 스킨 적용 방법\\n2025.04.10\\n타오바오 가구, 대형 화물 구매기와 부피가 큰 제품을 사는⋯\\n2025.03.14\\nOSError: [WinError 10014] 호출에 대한⋯\\n2025.03.01\\nhELLO\\n· Designed By\\n정상우.\\nv4.10.3\\nQUISEOL\\n테마\\n상단으로\\n티스토리툴바\\nQUISEOL\\n구독하기\\n\\n\\n\\nhomepage\\nWebpage Title:\\nQUISEOL — QUISEOL\\nWebpage Contents:\\nLLM 모델별(gpt, gemini, claude 등) 성능 비교하는 법\\n2025.05.01\\n·\\nIT, Computer\\n서론LLM 사용에 있어서 성능의 차이가 수치적으로 궁금할 수 있다. 아무래도 체감하는 것과 객관적인 지표는 다를 수 있으니까 말이다. 그런 의미에서 이번 포스팅에서는 LLM 모델을 모델별 성능 비교한 사이트에 들어가고 그 의미를 알아보도록 하겠다. 아래 사이트를 참고하여, 하나하나 그 의미를 알아보자. LLM Leaderboard 2025This AI leaderboard shows comparison of capabilities, price and context window for leading commercial and open-source LLMs, based on the benchmark data provided in technical reports in 2025.www.vellum.ai Rea..\\n파이썬 제너레이터(generator), yield Python\\n2025.04.30\\n·\\nIT, Computer\\n서론파이썬에서는 yield 키워드를 통해 iterate하는 걸 볼 수 있다. 한 번에 하나의 요소를 통해 루프할 수 있는 방법이다. 특히 모든 것을 한 번에 메모리에 로드하고 싶지 않은 경우 한 번에 하나씩 데이터를 쉽게 처리할 수 있도록 하는 것이 목적이다. 쉽게 말해, 모든 데이터를 훑지 않고, 사용자가 원할 때 하나씩 값을 처리하는 것이다. 이렇게 값을 처리하는 방법을 Lazy Evaluation이라고 한다. 한 번에 하나씩 하는게 뭔말인지 아래 예제를 통해서 알아보자.yield 란?내가 아는 yield는 일본드라마인데(허허) 싶겠지만, 예제에 앞서 yield 키워드를 알아야 된다. return과 같은 역할을 수행하는데, return 자리에 yield가 있다면 그건 generator 함수라고 보면 ..\\n티스토리 hELLO 스킨 적용 방법\\n2025.04.10\\n·\\nIT, Computer\\n서론hELLO 스킨을 쓰는데 내 블로그를 들어갈때마다 무한 로딩이 발생했다. 그래서 서치를 하니까 나와 같은 사람이 있는걸 확인했고, 버전의 차이인가 하여 다시 블로그 스킨을 업데이트 하고자 한다. 내가 분명 올해 2월에 바꿨어서, \"아래에서 말하는 24년 12월에 업데이트 된 4.10.2 버전 사용중일거 같긴한데.\"라고 생각하고 릴리즈 노트를 보니까 가장 최신건 4.10.3이었다. 그래도 이 역시 24년 12월에 업데이트 된것이었다.\\xa0hELLO 스킨 다운 및 적용1아무튼 다시 하나하나 스킨을 적용하기 시작하겠다. 아래 깃허브 링크에 들어가 hELLO-dist.zip 파일을 다운 받은 뒤, 압축을 푼다.\\xa0\\xa0\\xa0Releases · pronist/hello😎 당신의 블로그를 위한 최고의 티스토리 스킨. Co..\\n타오바오 가구, 대형 화물 구매기와 부피가 큰 제품을 사는 사람을 향한 조언 (2)\\n2025.03.14\\n·\\n그 외 경험기\\n서론그렇다. 나는 이번에 대형화물을 보내며 멍청비용을 써버렸다. 고능지출인줄 알았더니 멍청비용이었을때의 처참함이란. 차라리 모르고있다가 멍청비용 내는게 낫지 고능이라고 생각했다가 이리 되니까 어질어질하다. 여러분들은 이걸 보면서 나와 같은 실수를 하지 않길 바란다. 이번 포스팅에서는 어떤 실수를 저질렀으며 그 결과 도합 얼마가 들었는지, 제품은 잘 도착했는지, 추가요금은 얼만지에 대해 적도록 하겠다.\\xa0타오바오 가구, 대형 화물 구매기와 부피가 큰 제품을 사는 사람을 향한 조언 (1)서론때는 올해 1'"
      ]
     },
     "execution_count": 65,
     "metadata": {},
     "output_type": "execute_result"
    }
   ],
   "source": [
    "get_brochure_user_prompt(\"HuggingFace\", \"https://quiseol.com\")"
   ]
  },
  {
   "cell_type": "code",
   "execution_count": 66,
   "id": "e44de579-4a1a-4e6a-a510-20ea3e4b8d46",
   "metadata": {},
   "outputs": [],
   "source": [
    "def create_brochure(company_name, url):\n",
    "    response = openai.chat.completions.create(\n",
    "        model=MODEL,\n",
    "        messages=[\n",
    "            {\"role\": \"system\", \"content\": system_prompt},\n",
    "            {\"role\": \"user\", \"content\": get_brochure_user_prompt(company_name, url)}\n",
    "          ],\n",
    "    )\n",
    "    result = response.choices[0].message.content\n",
    "    display(Markdown(result))"
   ]
  },
  {
   "cell_type": "code",
   "execution_count": 70,
   "id": "e093444a-9407-42ae-924a-145730591a39",
   "metadata": {},
   "outputs": [
    {
     "name": "stdout",
     "output_type": "stream",
     "text": [
      "Found links: {'links': [{'type': 'home page', 'url': 'https://quiseol.com/'}]}\n"
     ]
    },
    {
     "data": {
      "text/markdown": [
       "# QUISEOL Brochure\n",
       "\n",
       "---\n",
       "\n",
       "## Welcome to QUISEOL\n",
       "\n",
       "At **QUISEOL**, we specialize in the performance analysis of cutting-edge LLM (Large Language Model) technologies. With a dedicated focus on the latest models such as GPT, Gemini, and Claude, we provide insightful comparisons to help our users make informed decisions based on their specific needs.\n",
       "\n",
       "---\n",
       "\n",
       "## Our Vision\n",
       "\n",
       "QUISEOL aims to bridge the gap between subjective experiences and objective benchmarks. Our platform ranks LLMs based on capabilities, pricing, and context, providing users with comprehensive data from the latest technical reports. We continually explore the evolving landscape of artificial intelligence, ensuring our insights remain relevant and impactful.\n",
       "\n",
       "---\n",
       "\n",
       "## Company Culture\n",
       "\n",
       "At QUISEOL, we foster a **collaborative and innovative** work environment. Our team is passionate about technology and committed to continuous learning. We encourage creativity and critical thinking, enabling every member to contribute uniquely to our mission. We believe in balancing hard work with a fun atmosphere, promoting both personal and professional growth.\n",
       "\n",
       "---\n",
       "\n",
       "## Who We Serve\n",
       "\n",
       "Our customer base includes:\n",
       "\n",
       "- **Technologists** looking for in-depth analyses of LLM performance.\n",
       "- **Businesses** aiming to select the best AI tools for their operations.\n",
       "- **Developers** seeking guidance on how to implement AI solutions effectively.\n",
       "\n",
       "We are dedicated to providing valuable resources, practical advice, and expert analyses to ensure our users benefit maximally from our services.\n",
       "\n",
       "---\n",
       "\n",
       "## Career Opportunities\n",
       "\n",
       "QUISEOL is always looking for talented individuals to join our team! If you are passionate about AI, data analysis, or software development, we want to hear from you. We offer:\n",
       "\n",
       "- A dynamic team environment\n",
       "- Opportunities for professional development\n",
       "- Competitive compensation and benefits\n",
       "\n",
       "Explore your potential and grow with us at QUISEOL.\n",
       "\n",
       "---\n",
       "\n",
       "Join us in shaping the future of AI technology. For more information, visit us at **[Quiseol.com](http://quiseol.com)** or connect with us on our social media platforms.\n",
       "\n",
       "---\n",
       "\n",
       "**QUISEOL—Where Innovation Meets Analysis**"
      ],
      "text/plain": [
       "<IPython.core.display.Markdown object>"
      ]
     },
     "metadata": {},
     "output_type": "display_data"
    }
   ],
   "source": [
    "create_brochure(\"quiseol\", \"https://quiseol.com\")"
   ]
  },
  {
   "cell_type": "markdown",
   "id": "61eaaab7-0b47-4b29-82d4-75d474ad8d18",
   "metadata": {},
   "source": [
    "## Finally - a minor improvement\n",
    "\n",
    "With a small adjustment, we can change this so that the results stream back from OpenAI,\n",
    "with the familiar typewriter animation"
   ]
  },
  {
   "cell_type": "code",
   "execution_count": 71,
   "id": "51db0e49-f261-4137-aabe-92dd601f7725",
   "metadata": {},
   "outputs": [],
   "source": [
    "def stream_brochure(company_name, url):\n",
    "    stream = openai.chat.completions.create(\n",
    "        model=MODEL,\n",
    "        messages=[\n",
    "            {\"role\": \"system\", \"content\": system_prompt},\n",
    "            {\"role\": \"user\", \"content\": get_brochure_user_prompt(company_name, url)}\n",
    "          ],\n",
    "        stream=True\n",
    "    )\n",
    "    \n",
    "    response = \"\"\n",
    "    display_handle = display(Markdown(\"\"), display_id=True)\n",
    "    for chunk in stream:\n",
    "        response += chunk.choices[0].delta.content or ''\n",
    "        response = response.replace(\"```\",\"\").replace(\"markdown\", \"\")\n",
    "        update_display(Markdown(response), display_id=display_handle.display_id)"
   ]
  },
  {
   "cell_type": "code",
   "execution_count": 72,
   "id": "56bf0ae3-ee9d-4a72-9cd6-edcac67ceb6d",
   "metadata": {},
   "outputs": [
    {
     "name": "stdout",
     "output_type": "stream",
     "text": [
      "Found links: {'links': [{'type': 'homepage', 'url': 'https://quiseol.com/'}, {'type': 'about page', 'url': 'https://quiseol.com/entry/LLM-comparison'}, {'type': 'about page', 'url': 'https://quiseol.com/entry/generators-yield'}]}\n"
     ]
    },
    {
     "data": {
      "text/markdown": [
       "\n",
       "# Welcome to Quiseol\n",
       "\n",
       "Quiseol is your go-to destination for understanding the dynamic performance of Large Language Models (LLMs) such as GPT, Gemini, and Claude. Our commitment is to provide you with comprehensive insights and resources tailored for developers, IT professionals, and individuals keen on leveraging AI technologies.\n",
       "\n",
       "## What We Do\n",
       "\n",
       "At Quiseol, we focus on:\n",
       "\n",
       "- **Performance Comparison**: We analyze and publish detailed comparisons of various LLMs, providing insightful metrics on capabilities, pricing, and context windows using the latest benchmark data.\n",
       "- **Educational Content**: We create informative articles on topics that matter to our community, such as Python programming techniques and effective data handling methods.\n",
       "- **User-Centric Resources**: Our blog features tutorials and guides that help users troubleshoot common issues, as well as advice on best practices in technology use.\n",
       "\n",
       "## Our Customers\n",
       "\n",
       "Our primary audience includes:\n",
       "\n",
       "- **IT Professionals**: Developers and tech enthusiasts looking to optimize their use of LLMs.\n",
       "- **Businesses**: Organizations seeking to implement AI solutions to enhance their operations.\n",
       "- **Students & Learners**: Individuals eager to expand their knowledge in technology and programming.\n",
       "\n",
       "## Company Culture\n",
       "\n",
       "Quiseol thrives on innovation, collaboration, and inclusivity. We believe in fostering a work environment where ideas can flourish, and every team member's voice is valued. Our culture encourages continuous learning, and we take pride in supporting professional growth through ongoing training and development opportunities.\n",
       "\n",
       "## Careers at Quiseol\n",
       "\n",
       "Join us at Quiseol and be a part of a forward-thinking team that is shaping the future of AI technology. We are constantly on the lookout for talented individuals who are passionate about technology and eager to make a difference.\n",
       "\n",
       "**Current Openings:**\n",
       "- Software Engineer\n",
       "- Data Scientist\n",
       "- Content Creator\n",
       "\n",
       "Explore our career opportunities and be a part of the technological revolution!\n",
       "\n",
       "## Get in Touch\n",
       "\n",
       "Have questions or want to learn more? Visit us at [quiseol.com](https://www.quiseol.com) and connect with our community today!\n",
       "\n",
       "**Follow us on social media for the latest updates!**\n",
       "\n",
       "---\n",
       "\n",
       "*Quiseol - Empowering Technology Through Knowledge and Innovation*\n",
       "\n"
      ],
      "text/plain": [
       "<IPython.core.display.Markdown object>"
      ]
     },
     "metadata": {},
     "output_type": "display_data"
    }
   ],
   "source": [
    "stream_brochure(\"Quiseol\", \"https://quiseol.com\")"
   ]
  },
  {
   "cell_type": "code",
   "execution_count": null,
   "id": "fdb3f8d8-a3eb-41c8-b1aa-9f60686a653b",
   "metadata": {},
   "outputs": [],
   "source": [
    "# Try changing the system prompt to the humorous version when you make the Brochure for Hugging Face:\n",
    "\n",
    "stream_brochure(\"HuggingFace\", \"https://huggingface.co\")"
   ]
  },
  {
   "cell_type": "markdown",
   "id": "a27bf9e0-665f-4645-b66b-9725e2a959b5",
   "metadata": {},
   "source": [
    "<table style=\"margin: 0; text-align: left;\">\n",
    "    <tr>\n",
    "        <td style=\"width: 150px; height: 150px; vertical-align: middle;\">\n",
    "            <img src=\"../business.jpg\" width=\"150\" height=\"150\" style=\"display: block;\" />\n",
    "        </td>\n",
    "        <td>\n",
    "            <h2 style=\"color:#181;\">Business applications</h2>\n",
    "            <span style=\"color:#181;\">In this exercise we extended the Day 1 code to make multiple LLM calls, and generate a document.\n",
    "\n",
    "This is perhaps the first example of Agentic AI design patterns, as we combined multiple calls to LLMs. This will feature more in Week 2, and then we will return to Agentic AI in a big way in Week 8 when we build a fully autonomous Agent solution.\n",
    "\n",
    "Generating content in this way is one of the very most common Use Cases. As with summarization, this can be applied to any business vertical. Write marketing content, generate a product tutorial from a spec, create personalized email content, and so much more. Explore how you can apply content generation to your business, and try making yourself a proof-of-concept prototype. See what other students have done in the community-contributions folder -- so many valuable projects -- it's wild!</span>\n",
    "        </td>\n",
    "    </tr>\n",
    "</table>"
   ]
  },
  {
   "cell_type": "markdown",
   "id": "14b2454b-8ef8-4b5c-b928-053a15e0d553",
   "metadata": {},
   "source": [
    "<table style=\"margin: 0; text-align: left;\">\n",
    "    <tr>\n",
    "        <td style=\"width: 150px; height: 150px; vertical-align: middle;\">\n",
    "            <img src=\"../important.jpg\" width=\"150\" height=\"150\" style=\"display: block;\" />\n",
    "        </td>\n",
    "        <td>\n",
    "            <h2 style=\"color:#900;\">Before you move to Week 2 (which is tons of fun)</h2>\n",
    "            <span style=\"color:#900;\">Please see the week1 EXERCISE notebook for your challenge for the end of week 1. This will give you some essential practice working with Frontier APIs, and prepare you well for Week 2.</span>\n",
    "        </td>\n",
    "    </tr>\n",
    "</table>"
   ]
  },
  {
   "cell_type": "markdown",
   "id": "17b64f0f-7d33-4493-985a-033d06e8db08",
   "metadata": {},
   "source": [
    "<table style=\"margin: 0; text-align: left;\">\n",
    "    <tr>\n",
    "        <td style=\"width: 150px; height: 150px; vertical-align: middle;\">\n",
    "            <img src=\"../resources.jpg\" width=\"150\" height=\"150\" style=\"display: block;\" />\n",
    "        </td>\n",
    "        <td>\n",
    "            <h2 style=\"color:#f71;\">A reminder on 3 useful resources</h2>\n",
    "            <span style=\"color:#f71;\">1. The resources for the course are available <a href=\"https://edwarddonner.com/2024/11/13/llm-engineering-resources/\">here.</a><br/>\n",
    "            2. I'm on LinkedIn <a href=\"https://www.linkedin.com/in/eddonner/\">here</a> and I love connecting with people taking the course!<br/>\n",
    "            3. I'm trying out X/Twitter and I'm at <a href=\"https://x.com/edwarddonner\">@edwarddonner<a> and hoping people will teach me how it's done..  \n",
    "            </span>\n",
    "        </td>\n",
    "    </tr>\n",
    "</table>"
   ]
  },
  {
   "cell_type": "markdown",
   "id": "6f48e42e-fa7a-495f-a5d4-26bfc24d60b6",
   "metadata": {},
   "source": [
    "<table style=\"margin: 0; text-align: left;\">\n",
    "    <tr>\n",
    "        <td style=\"width: 150px; height: 150px; vertical-align: middle;\">\n",
    "            <img src=\"../thankyou.jpg\" width=\"150\" height=\"150\" style=\"display: block;\" />\n",
    "        </td>\n",
    "        <td>\n",
    "            <h2 style=\"color:#090;\">Finally! I have a special request for you</h2>\n",
    "            <span style=\"color:#090;\">\n",
    "                My editor tells me that it makes a MASSIVE difference when students rate this course on Udemy - it's one of the main ways that Udemy decides whether to show it to others. If you're able to take a minute to rate this, I'd be so very grateful! And regardless - always please reach out to me at ed@edwarddonner.com if I can help at any point.\n",
    "            </span>\n",
    "        </td>\n",
    "    </tr>\n",
    "</table>"
   ]
  },
  {
   "cell_type": "code",
   "execution_count": null,
   "id": "b8d3e1a1-ba54-4907-97c5-30f89a24775b",
   "metadata": {},
   "outputs": [],
   "source": []
  }
 ],
 "metadata": {
  "kernelspec": {
   "display_name": "Python 3 (ipykernel)",
   "language": "python",
   "name": "python3"
  },
  "language_info": {
   "codemirror_mode": {
    "name": "ipython",
    "version": 3
   },
   "file_extension": ".py",
   "mimetype": "text/x-python",
   "name": "python",
   "nbconvert_exporter": "python",
   "pygments_lexer": "ipython3",
   "version": "3.11.12"
  }
 },
 "nbformat": 4,
 "nbformat_minor": 5
}
