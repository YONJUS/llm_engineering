{
 "cells": [
  {
   "cell_type": "markdown",
   "id": "fe12c203-e6a6-452c-a655-afb8a03a4ff5",
   "metadata": {},
   "source": [
    "# End of week 1 exercise\n",
    "\n",
    "To demonstrate your familiarity with OpenAI API, and also Ollama, build a tool that takes a technical question,  \n",
    "and responds with an explanation. This is a tool that you will be able to use yourself during the course!"
   ]
  },
  {
   "cell_type": "code",
   "execution_count": 43,
   "id": "c1070317-3ed9-4659-abe3-828943230e03",
   "metadata": {},
   "outputs": [],
   "source": [
    "# imports\n",
    "import os\n",
    "import requests\n",
    "import json\n",
    "from typing import List\n",
    "from dotenv import load_dotenv\n",
    "from bs4 import BeautifulSoup\n",
    "from IPython.display import Markdown, display, update_display\n",
    "from openai import OpenAI"
   ]
  },
  {
   "cell_type": "code",
   "execution_count": 44,
   "id": "4a456906-915a-4bfd-bb9d-57e505c5093f",
   "metadata": {},
   "outputs": [],
   "source": [
    "# constants\n",
    "load_dotenv(override=True)\n",
    "api_key = os.getenv('OPENAI_API_KEY')\n",
    "\n",
    "MODEL_GPT = 'gpt-4o-mini'\n",
    "MODEL_LLAMA = 'llama3.2'\n",
    "OLLAMA_API = \"http://localhost:11434/api/chat\"\n",
    "openai = OpenAI()\n",
    "ollama_via_openai = OpenAI(base_url='http://localhost:11434/v1', api_key='ollama')\n"
   ]
  },
  {
   "cell_type": "code",
   "execution_count": 48,
   "id": "a8d7923c-5f28-4c30-8556-342d7c8497c1",
   "metadata": {},
   "outputs": [],
   "source": [
    "system_prompt = \"\"\"You are an expert of both Python and LLM engineering.\\n\n",
    "                Please answer question to your mentee in fluent Korean.\"\"\"\n",
    "\n",
    "\n",
    "def user_prompt(query):\n",
    "    user_prompt = f\"answer this question technically:\\n\"\n",
    "    user_prompt += query\n",
    "    #user_prompt = user_prompt[:5_000] # Truncate if more than 5,000 characters\n",
    "    return user_prompt\n",
    "    \n",
    "# messages\n",
    "def create_answer(query, MODEL):\n",
    "    response = openai.chat.completions.create(\n",
    "        model=MODEL,\n",
    "        messages=[\n",
    "            {\"role\": \"system\", \"content\": system_prompt},\n",
    "            {\"role\": \"user\", \"content\": user_prompt(query)}\n",
    "          ],\n",
    "    )\n",
    "    result = response.choices[0].message.content\n",
    "    display(Markdown(result))\n",
    "# here is the question; type over this to ask something new\n",
    "\n",
    "query = \"\"\"\n",
    "Please explain what this code does and why:\n",
    "yield from {book.get(\"author\") for book in books if book.get(\"author\")}\n",
    "\"\"\"\n"
   ]
  },
  {
   "cell_type": "code",
   "execution_count": 51,
   "id": "60ce7000-a4a5-4cce-a261-e75ef45063b4",
   "metadata": {},
   "outputs": [
    {
     "data": {
      "text/markdown": [
       "이 코드는 파이썬에서 `yield from` 구문과 집합 내포(set comprehension)를 사용하여 특정 작업을 수행합니다. 아래에 이 코드의 기능과 이유를 설명하겠습니다.\n",
       "\n",
       "### 코드 설명\n",
       "```python\n",
       "yield from {book.get(\"author\") for book in books if book.get(\"author\")}\n",
       "```\n",
       "\n",
       "1. **집합 내포**:\n",
       "   - `{book.get(\"author\") for book in books if book.get(\"author\")}` 부분은 집합 내포입니다. 이는 `books`라는 iterable(예: 리스트)에서 각 `book` 객체를 순회하며, `book`의 `\"author\"` 키에 해당하는 값을 가져옵니다.\n",
       "   - `if book.get(\"author\")` 조건은 `book`에서 `\"author\"` 키의 값이 존재하는 경우에만 포함되도록 하여, `None` 또는 빈 문자열과 같은 falsy 값은 걸러냅니다. 결국, 이 집합 내포는 `books` 목록에 있는 모든 저자 이름의 고유한 집합을 생성합니다.\n",
       "\n",
       "2. **`yield from` 구문**:\n",
       "   - `yield from`은 파이썬 제너레이터의 기능으로, 특정 이터러블(여기서는 집합)에서 값을 순차적으로 반환합니다. 즉, 이 코드에서는 위에서 생성된 저자 이름의 집합에서 각 저자 이름을 하나씩 반환합니다.\n",
       "\n",
       "### 요약\n",
       "- 이 코드는 `books`라는 리스트에서 각 책의 저자를 추출하고, 저자가 존재하는 경우에만 고유한 저자 이름의 집합을 만들며, 그 집합의 저자 이름들을 순차적으로 반환하려는 목적을 가지고 있습니다.\n",
       "- 따라서 이 코드의 주 목적은 책들의 저자 정보를 효율적으로 수집하고 반환하는 것입니다."
      ],
      "text/plain": [
       "<IPython.core.display.Markdown object>"
      ]
     },
     "metadata": {},
     "output_type": "display_data"
    },
    {
     "name": "stdout",
     "output_type": "stream",
     "text": [
      "None\n"
     ]
    }
   ],
   "source": [
    "# Get gpt-4o-mini to answer, with streaming,MD\n",
    "print(create_answer(query,MODEL_GPT))"
   ]
  },
  {
   "cell_type": "code",
   "execution_count": 49,
   "id": "78162e7c-bdf1-4462-b16b-de03108fa99c",
   "metadata": {},
   "outputs": [],
   "source": [
    "\n",
    "    \n",
    "def create_answer_llama(query, MODEL):\n",
    "    #website = Website(url)\n",
    "    response = ollama_via_openai.chat.completions.create(\n",
    "        model = MODEL,\n",
    "        messages = [\n",
    "            {\"role\": \"system\", \"content\": system_prompt},\n",
    "            {\"role\": \"user\", \"content\": user_prompt(query)}\n",
    "          ],)\n",
    "    result = response.choices[0].message.content\n",
    "    display(Markdown(result))\n",
    "    "
   ]
  },
  {
   "cell_type": "code",
   "execution_count": 50,
   "id": "8f7c8ea8-4082-4ad0-8751-3301adcf6538",
   "metadata": {},
   "outputs": [
    {
     "data": {
      "text/markdown": [
       "이 코드는 다음 두 가지 Things를 करत다.\n",
       "\n",
       "### 1. 데이터가 나와서 반복하는 Mechanism을 구현한다\n",
       "`yield from ...`이라는 keyword는 yield 연 overload을 implements하다.\n",
       "\n",
       "반면 일반적인 `yield` keyword처럼, 만약 예외가 되게된다면, 그 전까지의 연역에서 yielded한 value를 제거할 수 있게 한다. `yield from`,로gether는, yielded from 이 preceding value를 제거한다.\n",
       "\n",
       "```python\n",
       "def generator_func():\n",
       "    yield 0\n",
       "    try:\n",
       "        yield 1\n",
       "    except Exception as e:\n",
       "        print(e) #Exception이 발생하면 0을 제거하고에러메세지를rint하게 한다.\n",
       "```\n",
       "이렇게 작동할 수 있다:\n",
       "\n",
       "- `gen = generator_func()`\n",
       "\n",
       "```python\n",
       "print(next(gen)) == 0\n",
       "# True\n",
       "```\n",
       "\n",
       "```python\n",
       "try:\n",
       "    next(gen)\n",
       "except ValueError:\n",
       "    print(\"False\")\n",
       "## True\n",
       "```\n",
       "\n",
       "###2. 예시로 사용할 예를들어 보자\n",
       "이 경우, books object의 author field가 있는 book을 only select하고 yield from 해서 이 books object를 반복하기위한 generator function을 만든다.\n",
       "\n",
       "```python\n",
       "books = [\n",
       "    {\"title\": \"Book1\", \"author\": \"AuthorA\"},\n",
       "    {\"title\": \"\"}, # null인 book이 있다.\n",
       "    {\n",
       "        \"title\":\"Book3\",\"author\":\"AuthorC\"\n",
       "    },\n",
       "    {\"title\":\"\"},\n",
       "{\"title\":\"Book5\",\"author':'AuthorE'} #author field가 presence가 있는 book\n",
       "]\n",
       "\n",
       "books_gen = (book[\"author\"] for book in books if book.get(\"author\"))\n",
       "```\n",
       "`next(next(books_gen))`,\n",
       "`...`으로 book의 author field가 existence하는 every time, \n",
       "한개씩 book object를 iteration시킬 수 있다.\n",
       "`next(...)`는 nextgenator의 value를 next iteration 시키지 않도록 한다.\n",
       "이 thereby, books object의 author field가 presence가 있는 각 book을 iteratation시킬 수 있게 한다.\n",
       "\n",
       "\n",
       "`yield from ...`,로gether는 yield from which preceding value가 exception을 발생시켜서 제거하지 못한다. \n",
       "in this case\n",
       "\n",
       "```python\n",
       "books_gen = (book[\"author\"] for book in books if book.get(\"author\"))\n",
       "exception_gen = (1) # generator class.\n",
       "next_value= next(books_gen)\n",
       "print(next_value) == 'AuthorA'\n",
       "print(next_exception()) # exception value가 none \n",
       "\n",
       "# books_gen과 exception_gen between 2는 different\n",
       "\n",
       "```"
      ],
      "text/plain": [
       "<IPython.core.display.Markdown object>"
      ]
     },
     "metadata": {},
     "output_type": "display_data"
    },
    {
     "name": "stdout",
     "output_type": "stream",
     "text": [
      "None\n"
     ]
    }
   ],
   "source": [
    "# Get Llama 3.2 to answer\n",
    "print(create_answer_llama(query,MODEL_LLAMA))"
   ]
  }
 ],
 "metadata": {
  "kernelspec": {
   "display_name": "Python 3 (ipykernel)",
   "language": "python",
   "name": "python3"
  },
  "language_info": {
   "codemirror_mode": {
    "name": "ipython",
    "version": 3
   },
   "file_extension": ".py",
   "mimetype": "text/x-python",
   "name": "python",
   "nbconvert_exporter": "python",
   "pygments_lexer": "ipython3",
   "version": "3.11.12"
  }
 },
 "nbformat": 4,
 "nbformat_minor": 5
}
