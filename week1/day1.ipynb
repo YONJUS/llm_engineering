{
 "cells": [
  {
   "cell_type": "markdown",
   "id": "d15d8294-3328-4e07-ad16-8a03e9bbfdb9",
   "metadata": {},
   "source": [
    "# YOUR FIRST LAB\n",
    "### Please read this section. This is valuable to get you prepared, even if it's a long read -- it's important stuff.\n",
    "\n",
    "## Your first Frontier LLM Project\n",
    "\n",
    "Let's build a useful LLM solution - in a matter of minutes.\n",
    "\n",
    "By the end of this course, you will have built an autonomous Agentic AI solution with 7 agents that collaborate to solve a business problem. All in good time! We will start with something smaller...\n",
    "\n",
    "Our goal is to code a new kind of Web Browser. Give it a URL, and it will respond with a summary. The Reader's Digest of the internet!!\n",
    "\n",
    "Before starting, you should have completed the setup for [PC](../SETUP-PC.md) or [Mac](../SETUP-mac.md) and you hopefully launched this jupyter lab from within the project root directory, with your environment activated.\n",
    "\n",
    "## If you're new to Jupyter Lab\n",
    "\n",
    "Welcome to the wonderful world of Data Science experimentation! Once you've used Jupyter Lab, you'll wonder how you ever lived without it. Simply click in each \"cell\" with code in it, such as the cell immediately below this text, and hit Shift+Return to execute that cell. As you wish, you can add a cell with the + button in the toolbar, and print values of variables, or try out variations.  \n",
    "\n",
    "I've written a notebook called [Guide to Jupyter](Guide%20to%20Jupyter.ipynb) to help you get more familiar with Jupyter Labs, including adding Markdown comments, using `!` to run shell commands, and `tqdm` to show progress.\n",
    "\n",
    "## If you're new to the Command Line\n",
    "\n",
    "Please see these excellent guides: [Command line on PC](https://chatgpt.com/share/67b0acea-ba38-8012-9c34-7a2541052665) and [Command line on Mac](https://chatgpt.com/canvas/shared/67b0b10c93a081918210723867525d2b).  \n",
    "\n",
    "## If you'd prefer to work in IDEs\n",
    "\n",
    "If you're more comfortable in IDEs like VSCode or Pycharm, they both work great with these lab notebooks too.  \n",
    "If you'd prefer to work in VSCode, [here](https://chatgpt.com/share/676f2e19-c228-8012-9911-6ca42f8ed766) are instructions from an AI friend on how to configure it for the course.\n",
    "\n",
    "## If you'd like to brush up your Python\n",
    "\n",
    "I've added a notebook called [Intermediate Python](Intermediate%20Python.ipynb) to get you up to speed. But you should give it a miss if you already have a good idea what this code does:    \n",
    "`yield from {book.get(\"author\") for book in books if book.get(\"author\")}`\n",
    "\n",
    "## I am here to help\n",
    "\n",
    "If you have any problems at all, please do reach out.  \n",
    "I'm available through the platform, or at ed@edwarddonner.com, or at https://www.linkedin.com/in/eddonner/ if you'd like to connect (and I love connecting!)  \n",
    "And this is new to me, but I'm also trying out X/Twitter at [@edwarddonner](https://x.com/edwarddonner) - if you're on X, please show me how it's done 😂  \n",
    "\n",
    "## More troubleshooting\n",
    "\n",
    "Please see the [troubleshooting](troubleshooting.ipynb) notebook in this folder to diagnose and fix common problems. At the very end of it is a diagnostics script with some useful debug info.\n",
    "\n",
    "## If this is old hat!\n",
    "\n",
    "If you're already comfortable with today's material, please hang in there; you can move swiftly through the first few labs - we will get much more in depth as the weeks progress.\n",
    "\n",
    "<table style=\"margin: 0; text-align: left;\">\n",
    "    <tr>\n",
    "        <td style=\"width: 150px; height: 150px; vertical-align: middle;\">\n",
    "            <img src=\"../important.jpg\" width=\"150\" height=\"150\" style=\"display: block;\" />\n",
    "        </td>\n",
    "        <td>\n",
    "            <h2 style=\"color:#900;\">Please read - important note</h2>\n",
    "            <span style=\"color:#900;\">The way I collaborate with you may be different to other courses you've taken. I prefer not to type code while you watch. Rather, I execute Jupyter Labs, like this, and give you an intuition for what's going on. My suggestion is that you carefully execute this yourself, <b>after</b> watching the lecture. Add print statements to understand what's going on, and then come up with your own variations. If you have a Github account, use this to showcase your variations. Not only is this essential practice, but it demonstrates your skills to others, including perhaps future clients or employers...</span>\n",
    "        </td>\n",
    "    </tr>\n",
    "</table>\n",
    "<table style=\"margin: 0; text-align: left;\">\n",
    "    <tr>\n",
    "        <td style=\"width: 150px; height: 150px; vertical-align: middle;\">\n",
    "            <img src=\"../resources.jpg\" width=\"150\" height=\"150\" style=\"display: block;\" />\n",
    "        </td>\n",
    "        <td>\n",
    "            <h2 style=\"color:#f71;\">Treat these labs as a resource</h2>\n",
    "            <span style=\"color:#f71;\">I push updates to the code regularly. When people ask questions or have problems, I incorporate it in the code, adding more examples or improved commentary. As a result, you'll notice that the code below isn't identical to the videos. Everything from the videos is here; but in addition, I've added more steps and better explanations, and occasionally added new models like DeepSeek. Consider this like an interactive book that accompanies the lectures.\n",
    "            </span>\n",
    "        </td>\n",
    "    </tr>\n",
    "</table>\n",
    "<table style=\"margin: 0; text-align: left;\">\n",
    "    <tr>\n",
    "        <td style=\"width: 150px; height: 150px; vertical-align: middle;\">\n",
    "            <img src=\"../business.jpg\" width=\"150\" height=\"150\" style=\"display: block;\" />\n",
    "        </td>\n",
    "        <td>\n",
    "            <h2 style=\"color:#181;\">Business value of these exercises</h2>\n",
    "            <span style=\"color:#181;\">A final thought. While I've designed these notebooks to be educational, I've also tried to make them enjoyable. We'll do fun things like have LLMs tell jokes and argue with each other. But fundamentally, my goal is to teach skills you can apply in business. I'll explain business implications as we go, and it's worth keeping this in mind: as you build experience with models and techniques, think of ways you could put this into action at work today. Please do contact me if you'd like to discuss more or if you have ideas to bounce off me.</span>\n",
    "        </td>\n",
    "    </tr>\n",
    "</table>"
   ]
  },
  {
   "cell_type": "code",
   "execution_count": 1,
   "id": "4e2a9393-7767-488e-a8bf-27c12dca35bd",
   "metadata": {},
   "outputs": [],
   "source": [
    "# imports\n",
    "\n",
    "import os\n",
    "import requests\n",
    "from dotenv import load_dotenv\n",
    "from bs4 import BeautifulSoup\n",
    "from IPython.display import Markdown, display\n",
    "from openai import OpenAI\n",
    "\n",
    "# If you get an error running this cell, then please head over to the troubleshooting notebook!"
   ]
  },
  {
   "cell_type": "markdown",
   "id": "6900b2a8-6384-4316-8aaa-5e519fca4254",
   "metadata": {},
   "source": [
    "# Connecting to OpenAI (or Ollama)\n",
    "\n",
    "The next cell is where we load in the environment variables in your `.env` file and connect to OpenAI.  \n",
    "\n",
    "If you'd like to use free Ollama instead, please see the README section \"Free Alternative to Paid APIs\", and if you're not sure how to do this, there's a full solution in the solutions folder (day1_with_ollama.ipynb).\n",
    "\n",
    "## Troubleshooting if you have problems:\n",
    "\n",
    "Head over to the [troubleshooting](troubleshooting.ipynb) notebook in this folder for step by step code to identify the root cause and fix it!\n",
    "\n",
    "If you make a change, try restarting the \"Kernel\" (the python process sitting behind this notebook) by Kernel menu >> Restart Kernel and Clear Outputs of All Cells. Then try this notebook again, starting at the top.\n",
    "\n",
    "Or, contact me! Message me or email ed@edwarddonner.com and we will get this to work.\n",
    "\n",
    "Any concerns about API costs? See my notes in the README - costs should be minimal, and you can control it at every point. You can also use Ollama as a free alternative, which we discuss during Day 2."
   ]
  },
  {
   "cell_type": "code",
   "execution_count": 2,
   "id": "7b87cadb-d513-4303-baee-a37b6f938e4d",
   "metadata": {},
   "outputs": [
    {
     "name": "stdout",
     "output_type": "stream",
     "text": [
      "API key found and looks good so far!\n"
     ]
    }
   ],
   "source": [
    "# Load environment variables in a file called .env\n",
    "\n",
    "load_dotenv(override=True)\n",
    "api_key = os.getenv('OPENAI_API_KEY')\n",
    "\n",
    "# Check the key\n",
    "\n",
    "if not api_key:\n",
    "    print(\"No API key was found - please head over to the troubleshooting notebook in this folder to identify & fix!\")\n",
    "elif not api_key.startswith(\"sk-proj-\"):\n",
    "    print(\"An API key was found, but it doesn't start sk-proj-; please check you're using the right key - see troubleshooting notebook\")\n",
    "elif api_key.strip() != api_key:\n",
    "    print(\"An API key was found, but it looks like it might have space or tab characters at the start or end - please remove them - see troubleshooting notebook\")\n",
    "else:\n",
    "    print(\"API key found and looks good so far!\")\n"
   ]
  },
  {
   "cell_type": "code",
   "execution_count": 3,
   "id": "019974d9-f3ad-4a8a-b5f9-0a3719aea2d3",
   "metadata": {},
   "outputs": [],
   "source": [
    "openai = OpenAI()\n",
    "\n",
    "# If this doesn't work, try Kernel menu >> Restart Kernel and Clear Outputs Of All Cells, then run the cells from the top of this notebook down.\n",
    "# If it STILL doesn't work (horrors!) then please see the Troubleshooting notebook in this folder for full instructions"
   ]
  },
  {
   "cell_type": "markdown",
   "id": "442fc84b-0815-4f40-99ab-d9a5da6bda91",
   "metadata": {},
   "source": [
    "# Let's make a quick call to a Frontier model to get started, as a preview!"
   ]
  },
  {
   "cell_type": "code",
   "execution_count": 4,
   "id": "a58394bf-1e45-46af-9bfd-01e24da6f49a",
   "metadata": {},
   "outputs": [
    {
     "name": "stdout",
     "output_type": "stream",
     "text": [
      "Hello! Welcome! I'm glad you're here. How can I assist you today?\n"
     ]
    }
   ],
   "source": [
    "# To give you a preview -- calling OpenAI with these messages is this easy. Any problems, head over to the Troubleshooting notebook.\n",
    "\n",
    "message = \"Hello, GPT! This is my first ever message to you! Hi!\"\n",
    "response = openai.chat.completions.create(model=\"gpt-4o-mini\", messages=[{\"role\":\"user\", \"content\":message}])\n",
    "print(response.choices[0].message.content)"
   ]
  },
  {
   "cell_type": "markdown",
   "id": "2aa190e5-cb31-456a-96cc-db109919cd78",
   "metadata": {},
   "source": [
    "## OK onwards with our first project"
   ]
  },
  {
   "cell_type": "code",
   "execution_count": 5,
   "id": "c5e793b2-6775-426a-a139-4848291d0463",
   "metadata": {},
   "outputs": [],
   "source": [
    "# A class to represent a Webpage\n",
    "# If you're not familiar with Classes, check out the \"Intermediate Python\" notebook\n",
    "\n",
    "# Some websites need you to use proper headers when fetching them:\n",
    "headers = {\n",
    " \"User-Agent\": \"Mozilla/5.0 (Windows NT 10.0; Win64; x64) AppleWebKit/537.36 (KHTML, like Gecko) Chrome/117.0.0.0 Safari/537.36\"\n",
    "}\n",
    "\n",
    "class Website:\n",
    "\n",
    "    def __init__(self, url):\n",
    "        \"\"\"\n",
    "        Create this Website object from the given url using the BeautifulSoup library\n",
    "        \"\"\"\n",
    "        self.url = url\n",
    "        response = requests.get(url, headers=headers)\n",
    "        soup = BeautifulSoup(response.content, 'html.parser')\n",
    "        self.title = soup.title.string if soup.title else \"No title found\"\n",
    "        for irrelevant in soup.body([\"script\", \"style\", \"img\", \"input\"]):\n",
    "            irrelevant.decompose()\n",
    "        self.text = soup.body.get_text(separator=\"\\n\", strip=True)"
   ]
  },
  {
   "cell_type": "code",
   "execution_count": 8,
   "id": "2ef960cf-6dc2-4cda-afb3-b38be12f4c97",
   "metadata": {},
   "outputs": [
    {
     "name": "stdout",
     "output_type": "stream",
     "text": [
      "QUISEOL — QUISEOL\n",
      "티스토리 hELLO 스킨 적용 방법\n",
      "2025.04.10\n",
      "·\n",
      "IT, Computer\n",
      "서론hELLO 스킨을 쓰는데 내 블로그를 들어갈때마다 무한 로딩이 발생했다. 그래서 서치를 하니까 나와 같은 사람이 있는걸 확인했고, 버전의 차이인가 하여 다시 블로그 스킨을 업데이트 하고자 한다. 내가 분명 올해 2월에 바꿨어서, \"아래에서 말하는 24년 12월에 업데이트 된 4.10.2 버전 사용중일거 같긴한데.\"라고 생각하고 릴리즈 노트를 보니까 가장 최신건 4.10.3이었다. 그래도 이 역시 24년 12월에 업데이트 된것이었다. hELLO 스킨 다운 및 적용1아무튼 다시 하나하나 스킨을 적용하기 시작하겠다. 아래 깃허브 링크에 들어가 hELLO-dist.zip 파일을 다운 받은 뒤, 압축을 푼다.   Releases · pronist/hello😎 당신의 블로그를 위한 최고의 티스토리 스킨. Co..\n",
      "타오바오 가구, 대형 화물 구매기와 부피가 큰 제품을 사는 사람을 향한 조언 (2)\n",
      "2025.03.14\n",
      "·\n",
      "그 외 경험기\n",
      "서론그렇다. 나는 이번에 대형화물을 보내며 멍청비용을 써버렸다. 고능지출인줄 알았더니 멍청비용이었을때의 처참함이란. 차라리 모르고있다가 멍청비용 내는게 낫지 고능이라고 생각했다가 이리 되니까 어질어질하다. 여러분들은 이걸 보면서 나와 같은 실수를 하지 않길 바란다. 이번 포스팅에서는 어떤 실수를 저질렀으며 그 결과 도합 얼마가 들었는지, 제품은 잘 도착했는지, 추가요금은 얼만지에 대해 적도록 하겠다. 타오바오 가구, 대형 화물 구매기와 부피가 큰 제품을 사는 사람을 향한 조언 (1)서론때는 올해 1월, 나는 예쁜 쓰레기'통'에 꽂혔다. 분명 오래된 브랜드고 다양한 국가에서, 높은 가격으로 팔고있음에도 구글링이나 유튜브에 후기라는것이 별로 없었다. 한국에서만 유행인가quiseol.com멍청 비용 1: 대형..\n",
      "OSError: [WinError 10014] 호출에 대한 포인터 인수를 사용하려는 동안 시스템에서 잘못된 포인터 주소를 감지했습니다. 해결법\n",
      "2025.03.01\n",
      "·\n",
      "IT, Computer\n",
      "OSError: [WinError 10014] 원인 주피터 노트북을 vscode에서 사용할 때 간혹 OSError: [WinError 10014] 호출에 대한 포인터 인수를 사용하려는 동안 시스템에서 잘못된 포인터 주소를 감지했습니다. 라는 문구가 뜰 때가 있다. 검색을 해보면 window 공식 문서에서 \" 시스템에서 호출의 포인터 인수를 사용하려고 할 때 잘못된 포인터 주소를 검색했습니다. 이 오류는 애플리케이션이 잘못된 포인터 값을 전달하거나 버퍼 길이가 너무 작은 경우에 발생합니다. instance 경우 sockaddr 구조체인 인수의 길이가 sizeof(sockaddr)보다 작습니다.\" 라고 나온다.OSError: [WinError 10014] 해결 방법나는 이걸 해결하기 위해 포트를 변경하는 방..\n",
      "비발디파크 제휴 할인 리프트&렌탈권 가격 및 버스 예약 방법\n",
      "2025.02.28\n",
      "·\n",
      "그 외 경험기\n",
      "서론필자는 매년 스키장에 간다. 올해 역시 비발디 파크에 갔다왔음을 의미한다. 작년에도 올해처럼 2월 말에 갔는데 설질이 극악무도해서 주님이랑 하이파이브를 하고 왔었는데, 이번에는 안 그렇기를 바라며 예약을 했다. 작년과 달라진 것이 있다면 리프트랑 렌탈권을 사설시설을 이용하지 않고 비발디파크에서 구매했다는 것이다. 제휴할인을 받아서 가격만 이렇게 된다면 앞으로도 이렇게 이용할 의향 100%라고 할 수 있겠다. 아무튼 이번 포스팅에서는 비발디파크에서 제휴할인을 받은 방법과, 버스 예약은 어떻게하고 어디서 받았는지, 그리고 총 가격은 얼마인지에 대해 알아보겠다.비발디파크 하나카드 제휴 할인 리프트&렌탈권  비발디파크에서는 하나카드 제휴할인이 가능했는데 7시간권이 무려 50%였다. 렌탈은 그거보다 1시간 넉..\n",
      "[백준] BOJ 15649, N과 M (1) 파이썬 Python\n",
      "2025.02.17\n",
      "·\n",
      "IT, Computer\n",
      "서론이번 포스팅에서는 BOJ 15649 N과M(1) 문제를 풀어보도록 하겠다. 해당 문제를 보려면 여기로 가면 된다. 또한 어떻게 이 문제를 접근했고, 그렇게 푼 코드는 어떻게 되는 지 이어서 서술할 예정이다.  BOJ 15649 풀이과정BOJ 15649 N과 M을 보면, 1부터 N까지 길이가 M인 수열을 오름차순으로 나열하라고 되어있다. 그렇기에 첫번째로 1부터 N까지 자연수가 들어 있는 리스트를 만들었다. 또한 길이가 M인 수열이라는 걸 처음 봤을 때 수열에 꽂혀서 규칙이 있는 줄 알았는데 그냥 나열한 수준의 수열을 원한 거였다. 그렇기에 perumutaion이라고 판단했다. arr에서 M개를 뽑는데 순서에 따라 다른걸로 취급하는 조합이기 때문이다. 마지막으로 문제에서 요구한것은 오름차순 정렬이다. ..\n",
      "이전\n",
      "1\n",
      "2\n",
      "3\n",
      "4\n",
      "···\n",
      "19\n",
      "다음\n",
      "QUISEOL\n",
      "QUISEOL\n",
      "검색\n",
      "분류 전체보기\n",
      "(93)\n",
      "IT, Computer\n",
      "(44)\n",
      "그 외 경험기\n",
      "(49)\n",
      "블로그 메뉴\n",
      "링크\n",
      "insta\n",
      "공지사항\n",
      "인기 글\n",
      "이심(esim) 사용기 해외에서 국내 번호로 온 전화를 받⋯\n",
      "2024.06.12\n",
      "직구 수입(사용소비) 심사진행 왜, 얼마나 걸릴까?\n",
      "2024.11.06\n",
      "타오바오 가구, 대형 화물 구매기와 부피가 큰 제품을 사는⋯\n",
      "2025.02.03\n",
      "신라호텔 멤버십 신라 에스 (구)s 멤버십\n",
      "2025.01.08\n",
      "타오바오 가구, 대형 화물 구매기와 부피가 큰 제품을 사는⋯\n",
      "2025.03.14\n",
      "최근 글\n",
      "티스토리 hELLO 스킨 적용 방법\n",
      "2025.04.10\n",
      "타오바오 가구, 대형 화물 구매기와 부피가 큰 제품을 사는⋯\n",
      "2025.03.14\n",
      "OSError: [WinError 10014] 호출에 대한⋯\n",
      "2025.03.01\n",
      "비발디파크 제휴 할인 리프트&렌탈권 가격 및 버스 예약 방⋯\n",
      "2025.02.28\n",
      "[백준] BOJ 15649, N과 M (1) 파이썬 Pyt⋯\n",
      "2025.02.17\n",
      "hELLO\n",
      "· Designed By\n",
      "정상우.\n",
      "v4.10.3\n",
      "QUISEOL\n",
      "테마\n",
      "상단으로\n",
      "티스토리툴바\n",
      "QUISEOL\n",
      "구독하기\n"
     ]
    }
   ],
   "source": [
    "# Let's try one out. Change the website and add print statements to follow along.\n",
    "\n",
    "ed = Website(\"https://quiseol.com/\")\n",
    "print(ed.title)\n",
    "print(ed.text)"
   ]
  },
  {
   "cell_type": "markdown",
   "id": "6a478a0c-2c53-48ff-869c-4d08199931e1",
   "metadata": {},
   "source": [
    "## Types of prompts\n",
    "\n",
    "You may know this already - but if not, you will get very familiar with it!\n",
    "\n",
    "Models like GPT4o have been trained to receive instructions in a particular way.\n",
    "\n",
    "They expect to receive:\n",
    "\n",
    "**A system prompt** that tells them what task they are performing and what tone they should use\n",
    "\n",
    "**A user prompt** -- the conversation starter that they should reply to"
   ]
  },
  {
   "cell_type": "code",
   "execution_count": 9,
   "id": "abdb8417-c5dc-44bc-9bee-2e059d162699",
   "metadata": {},
   "outputs": [],
   "source": [
    "# Define our system prompt - you can experiment with this later, changing the last sentence to 'Respond in markdown in Spanish.\"\n",
    "\n",
    "system_prompt = \"You are an assistant that analyzes the contents of a website \\\n",
    "and provides a short summary, ignoring text that might be navigation related. \\\n",
    "Respond in markdown.\""
   ]
  },
  {
   "cell_type": "code",
   "execution_count": 10,
   "id": "f0275b1b-7cfe-4f9d-abfa-7650d378da0c",
   "metadata": {},
   "outputs": [],
   "source": [
    "# A function that writes a User Prompt that asks for summaries of websites:\n",
    "\n",
    "def user_prompt_for(website):\n",
    "    user_prompt = f\"You are looking at a website titled {website.title}\"\n",
    "    user_prompt += \"\\nThe contents of this website is as follows; \\\n",
    "please provide a short summary of this website in markdown. \\\n",
    "If it includes news or announcements, then summarize these too.\\n\\n\"\n",
    "    user_prompt += website.text\n",
    "    return user_prompt"
   ]
  },
  {
   "cell_type": "code",
   "execution_count": 11,
   "id": "26448ec4-5c00-4204-baec-7df91d11ff2e",
   "metadata": {},
   "outputs": [
    {
     "name": "stdout",
     "output_type": "stream",
     "text": [
      "You are looking at a website titled QUISEOL — QUISEOL\n",
      "The contents of this website is as follows; please provide a short summary of this website in markdown. If it includes news or announcements, then summarize these too.\n",
      "\n",
      "티스토리 hELLO 스킨 적용 방법\n",
      "2025.04.10\n",
      "·\n",
      "IT, Computer\n",
      "서론hELLO 스킨을 쓰는데 내 블로그를 들어갈때마다 무한 로딩이 발생했다. 그래서 서치를 하니까 나와 같은 사람이 있는걸 확인했고, 버전의 차이인가 하여 다시 블로그 스킨을 업데이트 하고자 한다. 내가 분명 올해 2월에 바꿨어서, \"아래에서 말하는 24년 12월에 업데이트 된 4.10.2 버전 사용중일거 같긴한데.\"라고 생각하고 릴리즈 노트를 보니까 가장 최신건 4.10.3이었다. 그래도 이 역시 24년 12월에 업데이트 된것이었다. hELLO 스킨 다운 및 적용1아무튼 다시 하나하나 스킨을 적용하기 시작하겠다. 아래 깃허브 링크에 들어가 hELLO-dist.zip 파일을 다운 받은 뒤, 압축을 푼다.   Releases · pronist/hello😎 당신의 블로그를 위한 최고의 티스토리 스킨. Co..\n",
      "타오바오 가구, 대형 화물 구매기와 부피가 큰 제품을 사는 사람을 향한 조언 (2)\n",
      "2025.03.14\n",
      "·\n",
      "그 외 경험기\n",
      "서론그렇다. 나는 이번에 대형화물을 보내며 멍청비용을 써버렸다. 고능지출인줄 알았더니 멍청비용이었을때의 처참함이란. 차라리 모르고있다가 멍청비용 내는게 낫지 고능이라고 생각했다가 이리 되니까 어질어질하다. 여러분들은 이걸 보면서 나와 같은 실수를 하지 않길 바란다. 이번 포스팅에서는 어떤 실수를 저질렀으며 그 결과 도합 얼마가 들었는지, 제품은 잘 도착했는지, 추가요금은 얼만지에 대해 적도록 하겠다. 타오바오 가구, 대형 화물 구매기와 부피가 큰 제품을 사는 사람을 향한 조언 (1)서론때는 올해 1월, 나는 예쁜 쓰레기'통'에 꽂혔다. 분명 오래된 브랜드고 다양한 국가에서, 높은 가격으로 팔고있음에도 구글링이나 유튜브에 후기라는것이 별로 없었다. 한국에서만 유행인가quiseol.com멍청 비용 1: 대형..\n",
      "OSError: [WinError 10014] 호출에 대한 포인터 인수를 사용하려는 동안 시스템에서 잘못된 포인터 주소를 감지했습니다. 해결법\n",
      "2025.03.01\n",
      "·\n",
      "IT, Computer\n",
      "OSError: [WinError 10014] 원인 주피터 노트북을 vscode에서 사용할 때 간혹 OSError: [WinError 10014] 호출에 대한 포인터 인수를 사용하려는 동안 시스템에서 잘못된 포인터 주소를 감지했습니다. 라는 문구가 뜰 때가 있다. 검색을 해보면 window 공식 문서에서 \" 시스템에서 호출의 포인터 인수를 사용하려고 할 때 잘못된 포인터 주소를 검색했습니다. 이 오류는 애플리케이션이 잘못된 포인터 값을 전달하거나 버퍼 길이가 너무 작은 경우에 발생합니다. instance 경우 sockaddr 구조체인 인수의 길이가 sizeof(sockaddr)보다 작습니다.\" 라고 나온다.OSError: [WinError 10014] 해결 방법나는 이걸 해결하기 위해 포트를 변경하는 방..\n",
      "비발디파크 제휴 할인 리프트&렌탈권 가격 및 버스 예약 방법\n",
      "2025.02.28\n",
      "·\n",
      "그 외 경험기\n",
      "서론필자는 매년 스키장에 간다. 올해 역시 비발디 파크에 갔다왔음을 의미한다. 작년에도 올해처럼 2월 말에 갔는데 설질이 극악무도해서 주님이랑 하이파이브를 하고 왔었는데, 이번에는 안 그렇기를 바라며 예약을 했다. 작년과 달라진 것이 있다면 리프트랑 렌탈권을 사설시설을 이용하지 않고 비발디파크에서 구매했다는 것이다. 제휴할인을 받아서 가격만 이렇게 된다면 앞으로도 이렇게 이용할 의향 100%라고 할 수 있겠다. 아무튼 이번 포스팅에서는 비발디파크에서 제휴할인을 받은 방법과, 버스 예약은 어떻게하고 어디서 받았는지, 그리고 총 가격은 얼마인지에 대해 알아보겠다.비발디파크 하나카드 제휴 할인 리프트&렌탈권  비발디파크에서는 하나카드 제휴할인이 가능했는데 7시간권이 무려 50%였다. 렌탈은 그거보다 1시간 넉..\n",
      "[백준] BOJ 15649, N과 M (1) 파이썬 Python\n",
      "2025.02.17\n",
      "·\n",
      "IT, Computer\n",
      "서론이번 포스팅에서는 BOJ 15649 N과M(1) 문제를 풀어보도록 하겠다. 해당 문제를 보려면 여기로 가면 된다. 또한 어떻게 이 문제를 접근했고, 그렇게 푼 코드는 어떻게 되는 지 이어서 서술할 예정이다.  BOJ 15649 풀이과정BOJ 15649 N과 M을 보면, 1부터 N까지 길이가 M인 수열을 오름차순으로 나열하라고 되어있다. 그렇기에 첫번째로 1부터 N까지 자연수가 들어 있는 리스트를 만들었다. 또한 길이가 M인 수열이라는 걸 처음 봤을 때 수열에 꽂혀서 규칙이 있는 줄 알았는데 그냥 나열한 수준의 수열을 원한 거였다. 그렇기에 perumutaion이라고 판단했다. arr에서 M개를 뽑는데 순서에 따라 다른걸로 취급하는 조합이기 때문이다. 마지막으로 문제에서 요구한것은 오름차순 정렬이다. ..\n",
      "이전\n",
      "1\n",
      "2\n",
      "3\n",
      "4\n",
      "···\n",
      "19\n",
      "다음\n",
      "QUISEOL\n",
      "QUISEOL\n",
      "검색\n",
      "분류 전체보기\n",
      "(93)\n",
      "IT, Computer\n",
      "(44)\n",
      "그 외 경험기\n",
      "(49)\n",
      "블로그 메뉴\n",
      "링크\n",
      "insta\n",
      "공지사항\n",
      "인기 글\n",
      "이심(esim) 사용기 해외에서 국내 번호로 온 전화를 받⋯\n",
      "2024.06.12\n",
      "직구 수입(사용소비) 심사진행 왜, 얼마나 걸릴까?\n",
      "2024.11.06\n",
      "타오바오 가구, 대형 화물 구매기와 부피가 큰 제품을 사는⋯\n",
      "2025.02.03\n",
      "신라호텔 멤버십 신라 에스 (구)s 멤버십\n",
      "2025.01.08\n",
      "타오바오 가구, 대형 화물 구매기와 부피가 큰 제품을 사는⋯\n",
      "2025.03.14\n",
      "최근 글\n",
      "티스토리 hELLO 스킨 적용 방법\n",
      "2025.04.10\n",
      "타오바오 가구, 대형 화물 구매기와 부피가 큰 제품을 사는⋯\n",
      "2025.03.14\n",
      "OSError: [WinError 10014] 호출에 대한⋯\n",
      "2025.03.01\n",
      "비발디파크 제휴 할인 리프트&렌탈권 가격 및 버스 예약 방⋯\n",
      "2025.02.28\n",
      "[백준] BOJ 15649, N과 M (1) 파이썬 Pyt⋯\n",
      "2025.02.17\n",
      "hELLO\n",
      "· Designed By\n",
      "정상우.\n",
      "v4.10.3\n",
      "QUISEOL\n",
      "테마\n",
      "상단으로\n",
      "티스토리툴바\n",
      "QUISEOL\n",
      "구독하기\n"
     ]
    }
   ],
   "source": [
    "print(user_prompt_for(ed))"
   ]
  },
  {
   "cell_type": "markdown",
   "id": "ea211b5f-28e1-4a86-8e52-c0b7677cadcc",
   "metadata": {},
   "source": [
    "## Messages\n",
    "\n",
    "The API from OpenAI expects to receive messages in a particular structure.\n",
    "Many of the other APIs share this structure:\n",
    "\n",
    "```\n",
    "[\n",
    "    {\"role\": \"system\", \"content\": \"system message goes here\"},\n",
    "    {\"role\": \"user\", \"content\": \"user message goes here\"}\n",
    "]\n",
    "\n",
    "To give you a preview, the next 2 cells make a rather simple call - we won't stretch the mighty GPT (yet!)"
   ]
  },
  {
   "cell_type": "code",
   "execution_count": 12,
   "id": "f25dcd35-0cd0-4235-9f64-ac37ed9eaaa5",
   "metadata": {},
   "outputs": [],
   "source": [
    "messages = [\n",
    "    {\"role\": \"system\", \"content\": \"You are a snarky assistant\"},\n",
    "    {\"role\": \"user\", \"content\": \"What is 2 + 2?\"}\n",
    "]"
   ]
  },
  {
   "cell_type": "code",
   "execution_count": 13,
   "id": "21ed95c5-7001-47de-a36d-1d6673b403ce",
   "metadata": {},
   "outputs": [
    {
     "name": "stdout",
     "output_type": "stream",
     "text": [
      "Oh, I don't know, let me consult my crystal ball... Just kidding! It's 4. Shocking, right?\n"
     ]
    }
   ],
   "source": [
    "# To give you a preview -- calling OpenAI with system and user messages:\n",
    "\n",
    "response = openai.chat.completions.create(model=\"gpt-4o-mini\", messages=messages)\n",
    "print(response.choices[0].message.content)"
   ]
  },
  {
   "cell_type": "markdown",
   "id": "d06e8d78-ce4c-4b05-aa8e-17050c82bb47",
   "metadata": {},
   "source": [
    "## And now let's build useful messages for GPT-4o-mini, using a function"
   ]
  },
  {
   "cell_type": "code",
   "execution_count": 14,
   "id": "0134dfa4-8299-48b5-b444-f2a8c3403c88",
   "metadata": {},
   "outputs": [],
   "source": [
    "# See how this function creates exactly the format above\n",
    "\n",
    "def messages_for(website):\n",
    "    return [\n",
    "        {\"role\": \"system\", \"content\": system_prompt},\n",
    "        {\"role\": \"user\", \"content\": user_prompt_for(website)}\n",
    "    ]"
   ]
  },
  {
   "cell_type": "code",
   "execution_count": 15,
   "id": "36478464-39ee-485c-9f3f-6a4e458dbc9c",
   "metadata": {},
   "outputs": [
    {
     "data": {
      "text/plain": [
       "[{'role': 'system',\n",
       "  'content': 'You are an assistant that analyzes the contents of a website and provides a short summary, ignoring text that might be navigation related. Respond in markdown.'},\n",
       " {'role': 'user',\n",
       "  'content': 'You are looking at a website titled QUISEOL — QUISEOL\\nThe contents of this website is as follows; please provide a short summary of this website in markdown. If it includes news or announcements, then summarize these too.\\n\\n티스토리 hELLO 스킨 적용 방법\\n2025.04.10\\n·\\nIT, Computer\\n서론hELLO 스킨을 쓰는데 내 블로그를 들어갈때마다 무한 로딩이 발생했다. 그래서 서치를 하니까 나와 같은 사람이 있는걸 확인했고, 버전의 차이인가 하여 다시 블로그 스킨을 업데이트 하고자 한다. 내가 분명 올해 2월에 바꿨어서, \"아래에서 말하는 24년 12월에 업데이트 된 4.10.2 버전 사용중일거 같긴한데.\"라고 생각하고 릴리즈 노트를 보니까 가장 최신건 4.10.3이었다. 그래도 이 역시 24년 12월에 업데이트 된것이었다.\\xa0hELLO 스킨 다운 및 적용1아무튼 다시 하나하나 스킨을 적용하기 시작하겠다. 아래 깃허브 링크에 들어가 hELLO-dist.zip 파일을 다운 받은 뒤, 압축을 푼다.\\xa0\\xa0\\xa0Releases · pronist/hello😎 당신의 블로그를 위한 최고의 티스토리 스킨. Co..\\n타오바오 가구, 대형 화물 구매기와 부피가 큰 제품을 사는 사람을 향한 조언 (2)\\n2025.03.14\\n·\\n그 외 경험기\\n서론그렇다. 나는 이번에 대형화물을 보내며 멍청비용을 써버렸다. 고능지출인줄 알았더니 멍청비용이었을때의 처참함이란. 차라리 모르고있다가 멍청비용 내는게 낫지 고능이라고 생각했다가 이리 되니까 어질어질하다. 여러분들은 이걸 보면서 나와 같은 실수를 하지 않길 바란다. 이번 포스팅에서는 어떤 실수를 저질렀으며 그 결과 도합 얼마가 들었는지, 제품은 잘 도착했는지, 추가요금은 얼만지에 대해 적도록 하겠다.\\xa0타오바오 가구, 대형 화물 구매기와 부피가 큰 제품을 사는 사람을 향한 조언 (1)서론때는 올해 1월, 나는 예쁜 쓰레기\\'통\\'에 꽂혔다. 분명 오래된 브랜드고 다양한 국가에서, 높은 가격으로 팔고있음에도 구글링이나 유튜브에 후기라는것이 별로 없었다. 한국에서만 유행인가quiseol.com멍청 비용 1: 대형..\\nOSError: [WinError 10014] 호출에 대한 포인터 인수를 사용하려는 동안 시스템에서 잘못된 포인터 주소를 감지했습니다. 해결법\\n2025.03.01\\n·\\nIT, Computer\\nOSError: [WinError 10014] 원인\\xa0주피터 노트북을 vscode에서 사용할 때 간혹 OSError: [WinError 10014] 호출에 대한 포인터 인수를 사용하려는 동안 시스템에서 잘못된 포인터 주소를 감지했습니다. 라는 문구가 뜰 때가 있다. 검색을 해보면 window 공식 문서에서 \" 시스템에서 호출의 포인터 인수를 사용하려고 할 때 잘못된 포인터 주소를 검색했습니다. 이 오류는 애플리케이션이 잘못된 포인터 값을 전달하거나 버퍼 길이가 너무 작은 경우에 발생합니다. instance 경우\\xa0sockaddr\\xa0구조체인 인수의 길이가 sizeof(sockaddr)보다 작습니다.\" 라고 나온다.OSError: [WinError 10014] 해결 방법나는 이걸 해결하기 위해 포트를 변경하는 방..\\n비발디파크 제휴 할인 리프트&렌탈권 가격 및 버스 예약 방법\\n2025.02.28\\n·\\n그 외 경험기\\n서론필자는 매년 스키장에 간다. 올해 역시 비발디 파크에 갔다왔음을 의미한다. 작년에도 올해처럼 2월 말에 갔는데 설질이 극악무도해서 주님이랑 하이파이브를 하고 왔었는데, 이번에는 안 그렇기를 바라며 예약을 했다. 작년과 달라진 것이 있다면 리프트랑 렌탈권을 사설시설을 이용하지 않고 비발디파크에서 구매했다는 것이다. 제휴할인을 받아서 가격만 이렇게 된다면 앞으로도 이렇게 이용할 의향 100%라고 할 수 있겠다. 아무튼 이번 포스팅에서는 비발디파크에서 제휴할인을 받은 방법과, 버스 예약은 어떻게하고 어디서 받았는지, 그리고 총 가격은 얼마인지에 대해 알아보겠다.비발디파크 하나카드 제휴 할인 리프트&렌탈권\\xa0\\xa0비발디파크에서는 하나카드 제휴할인이 가능했는데 7시간권이 무려 50%였다. 렌탈은 그거보다 1시간 넉..\\n[백준] BOJ 15649, N과 M (1) 파이썬 Python\\n2025.02.17\\n·\\nIT, Computer\\n서론이번 포스팅에서는 BOJ 15649 N과M(1) 문제를 풀어보도록 하겠다. 해당 문제를 보려면 여기로 가면 된다. 또한 어떻게 이 문제를 접근했고, 그렇게 푼 코드는 어떻게 되는 지 이어서 서술할 예정이다.\\xa0\\xa0BOJ 15649 풀이과정BOJ 15649 N과 M을 보면, 1부터 N까지 길이가 M인 수열을 오름차순으로 나열하라고 되어있다. 그렇기에 첫번째로 1부터 N까지 자연수가 들어 있는 리스트를 만들었다. 또한 길이가 M인 수열이라는 걸 처음 봤을 때 수열에 꽂혀서 규칙이 있는 줄 알았는데 그냥 나열한 수준의 수열을 원한 거였다. 그렇기에 perumutaion이라고 판단했다. arr에서 M개를 뽑는데 순서에 따라 다른걸로 취급하는 조합이기 때문이다.\\xa0마지막으로 문제에서 요구한것은 오름차순 정렬이다. ..\\n이전\\n1\\n2\\n3\\n4\\n···\\n19\\n다음\\nQUISEOL\\nQUISEOL\\n검색\\n분류 전체보기\\n(93)\\nIT, Computer\\n(44)\\n그 외 경험기\\n(49)\\n블로그 메뉴\\n링크\\ninsta\\n공지사항\\n인기 글\\n이심(esim) 사용기 해외에서 국내 번호로 온 전화를 받⋯\\n2024.06.12\\n직구 수입(사용소비) 심사진행 왜, 얼마나 걸릴까?\\n2024.11.06\\n타오바오 가구, 대형 화물 구매기와 부피가 큰 제품을 사는⋯\\n2025.02.03\\n신라호텔 멤버십 신라 에스 (구)s 멤버십\\n2025.01.08\\n타오바오 가구, 대형 화물 구매기와 부피가 큰 제품을 사는⋯\\n2025.03.14\\n최근 글\\n티스토리 hELLO 스킨 적용 방법\\n2025.04.10\\n타오바오 가구, 대형 화물 구매기와 부피가 큰 제품을 사는⋯\\n2025.03.14\\nOSError: [WinError 10014] 호출에 대한⋯\\n2025.03.01\\n비발디파크 제휴 할인 리프트&렌탈권 가격 및 버스 예약 방⋯\\n2025.02.28\\n[백준] BOJ 15649, N과 M (1) 파이썬 Pyt⋯\\n2025.02.17\\nhELLO\\n· Designed By\\n정상우.\\nv4.10.3\\nQUISEOL\\n테마\\n상단으로\\n티스토리툴바\\nQUISEOL\\n구독하기'}]"
      ]
     },
     "execution_count": 15,
     "metadata": {},
     "output_type": "execute_result"
    }
   ],
   "source": [
    "# Try this out, and then try for a few more websites\n",
    "\n",
    "messages_for(ed)"
   ]
  },
  {
   "cell_type": "markdown",
   "id": "16f49d46-bf55-4c3e-928f-68fc0bf715b0",
   "metadata": {},
   "source": [
    "## Time to bring it together - the API for OpenAI is very simple!"
   ]
  },
  {
   "cell_type": "code",
   "execution_count": 16,
   "id": "905b9919-aba7-45b5-ae65-81b3d1d78e34",
   "metadata": {},
   "outputs": [],
   "source": [
    "# And now: call the OpenAI API. You will get very familiar with this!\n",
    "\n",
    "def summarize(url):\n",
    "    website = Website(url)\n",
    "    response = openai.chat.completions.create(\n",
    "        model = \"gpt-4o-mini\",\n",
    "        messages = messages_for(website)\n",
    "    )\n",
    "    return response.choices[0].message.content"
   ]
  },
  {
   "cell_type": "code",
   "execution_count": 18,
   "id": "05e38d41-dfa4-4b20-9c96-c46ea75d9fb5",
   "metadata": {},
   "outputs": [
    {
     "data": {
      "text/plain": [
       "\"# QUISEOL Website Summary\\n\\nQUISEOL is a blog that primarily focuses on IT and personal experiences with various products and services. The site features various articles discussing topics such as computer issues, product reviews, and personal anecdotes. \\n\\n## Recent Articles:\\n\\n1. **티스토리 hELLO 스킨 적용 방법 (April 10, 2025)**\\n   - Discusses how to apply the hELLO skin for Tistory blogs and describes experiences with blog loading issues related to skin updates.\\n\\n2. **타오바오 가구, 대형 화물 구매기와 부피가 큰 제품을 사는 사람을 향한 조언 (March 14, 2025)**\\n   - Shares personal experiences and advice on purchasing large items from Taobao, detailing the mistakes made and the costs involved.\\n\\n3. **OSError: [WinError 10014] 호출에 대한 포인터 인수를 사용하려는 동안 시스템에서 잘못된 포인터 주소를 감지했습니다. 해결법 (March 1, 2025)**\\n   - Provides solutions for encountering an OSError in Jupyter notebooks while using VS Code, explaining the cause and suggesting potential fixes.\\n\\n4. **비발디파크 제휴 할인 리프트&렌탈권 가격 및 버스 예약 방법 (February 28, 2025)**\\n   - Describes how to get discounted lift and rental passes for Vivaldi Park and shares details on the bus reservation process.\\n\\n5. **[백준] BOJ 15649, N과 M (1) 파이썬 Python (February 17, 2025)**\\n   - Offers a solution for a coding problem from BOJ (Baekjoon Online Judge) involving permutations and combinations with Python programming.\\n\\nThe blog contains a mix of technical advice, personal insights, and problem-solving experiences tailored to its readers' interests in technology and lifestyle.\""
      ]
     },
     "execution_count": 18,
     "metadata": {},
     "output_type": "execute_result"
    }
   ],
   "source": [
    "summarize(\"https://quiseol.com\")"
   ]
  },
  {
   "cell_type": "code",
   "execution_count": 19,
   "id": "3d926d59-450e-4609-92ba-2d6f244f1342",
   "metadata": {},
   "outputs": [],
   "source": [
    "# A function to display this nicely in the Jupyter output, using markdown\n",
    "\n",
    "def display_summary(url):\n",
    "    summary = summarize(url)\n",
    "    display(Markdown(summary))"
   ]
  },
  {
   "cell_type": "code",
   "execution_count": 20,
   "id": "3018853a-445f-41ff-9560-d925d1774b2f",
   "metadata": {},
   "outputs": [
    {
     "data": {
      "text/markdown": [
       "# QUISEOL Website Summary\n",
       "\n",
       "The QUISEOL website features a variety of blog posts primarily focused on IT, personal experiences, and tutorials. Below are the highlights of the most recent articles:\n",
       "\n",
       "## Recent Articles\n",
       "\n",
       "### 1. **티스토리 hELLO 스킨 적용 방법**\n",
       "   * **Date**: April 10, 2025\n",
       "   * **Summary**: The author discusses their experience with the hELLO skin for their blog, specifically addressing issues with infinite loading times. They detail the process of downloading the latest version of the skin and applying it to their blog.\n",
       "\n",
       "### 2. **타오바오 가구, 대형 화물 구매기와 부피가 큰 제품을 사는 사람을 향한 조언 (Part 2)**\n",
       "   * **Date**: March 14, 2025\n",
       "   * **Summary**: This post recounts the author's experience purchasing large items via Taobao, highlighting the mistakes made that led to excessive costs. They aim to share insights to prevent others from making similar errors.\n",
       "\n",
       "### 3. **OSError: [WinError 10014] 호출에 대한 포인터 인수를 사용하려는 동안 시스템에서 잘못된 포인터 주소를 감지했습니다. 해결법**\n",
       "   * **Date**: March 1, 2025\n",
       "   * **Summary**: The article provides a guide on how to resolve an OSError encountered while using Jupyter Notebook in VS Code. The issue is related to invalid pointer addresses and a solution involving port changes is discussed.\n",
       "\n",
       "### 4. **비발디파크 제휴 할인 리프트&렌탈권 가격 및 버스 예약 방법**\n",
       "   * **Date**: February 28, 2025\n",
       "   * **Summary**: The author shares their experience of visiting Vivaldi Park and how they managed to secure partnership discounts on lift and rental tickets.\n",
       "\n",
       "### 5. **[백준] BOJ 15649, N과 M (1) 파이썬 Python**\n",
       "   * **Date**: February 17, 2025\n",
       "   * **Summary**: This post includes a solution to the BOJ problem 15649 involving generating sequences of numbers from 1 to N in increasing order, using Python.\n",
       "\n",
       "Overall, the website serves as a platform for sharing practical advice, technical solutions, and personal anecdotes."
      ],
      "text/plain": [
       "<IPython.core.display.Markdown object>"
      ]
     },
     "metadata": {},
     "output_type": "display_data"
    }
   ],
   "source": [
    "display_summary(\"https://quiseol.com\")"
   ]
  },
  {
   "cell_type": "markdown",
   "id": "b3bcf6f4-adce-45e9-97ad-d9a5d7a3a624",
   "metadata": {},
   "source": [
    "# Let's try more websites\n",
    "\n",
    "Note that this will only work on websites that can be scraped using this simplistic approach.\n",
    "\n",
    "Websites that are rendered with Javascript, like React apps, won't show up. See the community-contributions folder for a Selenium implementation that gets around this. You'll need to read up on installing Selenium (ask ChatGPT!)\n",
    "\n",
    "Also Websites protected with CloudFront (and similar) may give 403 errors - many thanks Andy J for pointing this out.\n",
    "\n",
    "But many websites will work just fine!"
   ]
  },
  {
   "cell_type": "code",
   "execution_count": 21,
   "id": "45d83403-a24c-44b5-84ac-961449b4008f",
   "metadata": {},
   "outputs": [
    {
     "data": {
      "text/markdown": [
       "# Website Summary: CNN\n",
       "\n",
       "CNN is a comprehensive news platform that provides breaking news, analysis, and updates on various topics including politics, world events, health, business, and entertainment. The website features live news coverage, videos, and articles that cater to a diverse audience.\n",
       "\n",
       "## Recent Highlights:\n",
       "- **Canada's Elections**: Prime Minister Mark Carney's Liberal Party is set to form a government amid a campaign overshadowed by US tariff threats.\n",
       "- **U.S. Politics**: Insights into the American public's perception of Trump's economic policies and the impact of his administration on social issues like deepfakes and civil rights.\n",
       "- **Global News**: Reporting on significant events such as a trial in Australia for a woman accused of murder, a tragic restaurant fire in China, and environmental impacts associated with common household plastics.\n",
       "- **Sports**: Updates on significant sports events, including injuries and playoff performances of notable athletes.\n",
       "\n",
       "CNN also features sections on science, climate, and various lifestyles, along with interactive content and galleries showcasing impactful images and stories from around the world. The platform encourages user engagement through feedback on advertisements and content relevance."
      ],
      "text/plain": [
       "<IPython.core.display.Markdown object>"
      ]
     },
     "metadata": {},
     "output_type": "display_data"
    }
   ],
   "source": [
    "display_summary(\"https://cnn.com\")"
   ]
  },
  {
   "cell_type": "code",
   "execution_count": 22,
   "id": "75e9fd40-b354-4341-991e-863ef2e59db7",
   "metadata": {},
   "outputs": [
    {
     "data": {
      "text/markdown": [
       "# Anthropic Website Summary\n",
       "\n",
       "Anthropic is an AI research company that emphasizes the development of safe and beneficial artificial intelligence technologies, with a particular focus on its AI model, Claude. \n",
       "\n",
       "## Key Offerings\n",
       "- **Claude 3.7 Sonnet**: The latest and most intelligent version of their AI model, now available for users.\n",
       "- **API Services**: Developers can create AI-powered applications and custom experiences using Claude.\n",
       "\n",
       "## Core Philosophy\n",
       "Anthropic is committed to prioritizing human safety and societal benefits in AI development. The company aims to demonstrate responsible AI practices through its research, policy work, and product design.\n",
       "\n",
       "## Recent News\n",
       "- **Claude 3.7 Sonnet Released**: This product announcement indicates the launch of their advanced AI model focused on intelligence and utility.\n",
       "- **Research Publications**: Various research articles have been recently highlighted, including topics on AI interpretability, societal impacts, and alignment science. Notable articles include:\n",
       "  - \"Tracing the thoughts of a large language model\" (published Mar 27, 2025)\n",
       "  - \"Anthropic Economic Index\" (published Mar 27, 2025)\n",
       "  - Other product updates from Feb 24 and Nov 25, 2024.\n",
       "\n",
       "## Community Engagement\n",
       "Anthropic encourages individuals to participate in shaping the future of safe AI through available roles and initiatives such as the Anthropic Academy, which provides learning resources to build with Claude. \n",
       "\n",
       "For more information, developers and interested parties can access the platform for API documentation and Claude's applications."
      ],
      "text/plain": [
       "<IPython.core.display.Markdown object>"
      ]
     },
     "metadata": {},
     "output_type": "display_data"
    }
   ],
   "source": [
    "display_summary(\"https://anthropic.com\")"
   ]
  },
  {
   "cell_type": "markdown",
   "id": "c951be1a-7f1b-448f-af1f-845978e47e2c",
   "metadata": {},
   "source": [
    "<table style=\"margin: 0; text-align: left;\">\n",
    "    <tr>\n",
    "        <td style=\"width: 150px; height: 150px; vertical-align: middle;\">\n",
    "            <img src=\"../business.jpg\" width=\"150\" height=\"150\" style=\"display: block;\" />\n",
    "        </td>\n",
    "        <td>\n",
    "            <h2 style=\"color:#181;\">Business applications</h2>\n",
    "            <span style=\"color:#181;\">In this exercise, you experienced calling the Cloud API of a Frontier Model (a leading model at the frontier of AI) for the first time. We will be using APIs like OpenAI at many stages in the course, in addition to building our own LLMs.\n",
    "\n",
    "More specifically, we've applied this to Summarization - a classic Gen AI use case to make a summary. This can be applied to any business vertical - summarizing the news, summarizing financial performance, summarizing a resume in a cover letter - the applications are limitless. Consider how you could apply Summarization in your business, and try prototyping a solution.</span>\n",
    "        </td>\n",
    "    </tr>\n",
    "</table>\n",
    "\n",
    "<table style=\"margin: 0; text-align: left;\">\n",
    "    <tr>\n",
    "        <td style=\"width: 150px; height: 150px; vertical-align: middle;\">\n",
    "            <img src=\"../important.jpg\" width=\"150\" height=\"150\" style=\"display: block;\" />\n",
    "        </td>\n",
    "        <td>\n",
    "            <h2 style=\"color:#900;\">Before you continue - now try yourself</h2>\n",
    "            <span style=\"color:#900;\">Use the cell below to make your own simple commercial example. Stick with the summarization use case for now. Here's an idea: write something that will take the contents of an email, and will suggest an appropriate short subject line for the email. That's the kind of feature that might be built into a commercial email tool.</span>\n",
    "        </td>\n",
    "    </tr>\n",
    "</table>"
   ]
  },
  {
   "cell_type": "code",
   "execution_count": null,
   "id": "00743dac-0e70-45b7-879a-d7293a6f68a6",
   "metadata": {},
   "outputs": [],
   "source": [
    "# Step 1: Create your prompts\n",
    "\n",
    "system_prompt = \"something here\"\n",
    "user_prompt = \"\"\"\n",
    "    Lots of text\n",
    "    Can be pasted here\n",
    "\"\"\"\n",
    "\n",
    "# Step 2: Make the messages list\n",
    "\n",
    "messages = [] # fill this in\n",
    "\n",
    "# Step 3: Call OpenAI\n",
    "\n",
    "response =\n",
    "\n",
    "# Step 4: print the result\n",
    "\n",
    "print("
   ]
  },
  {
   "cell_type": "markdown",
   "id": "36ed9f14-b349-40e9-a42c-b367e77f8bda",
   "metadata": {},
   "source": [
    "## An extra exercise for those who enjoy web scraping\n",
    "\n",
    "You may notice that if you try `display_summary(\"https://openai.com\")` - it doesn't work! That's because OpenAI has a fancy website that uses Javascript. There are many ways around this that some of you might be familiar with. For example, Selenium is a hugely popular framework that runs a browser behind the scenes, renders the page, and allows you to query it. If you have experience with Selenium, Playwright or similar, then feel free to improve the Website class to use them. In the community-contributions folder, you'll find an example Selenium solution from a student (thank you!)"
   ]
  },
  {
   "cell_type": "markdown",
   "id": "eeab24dc-5f90-4570-b542-b0585aca3eb6",
   "metadata": {},
   "source": [
    "# Sharing your code\n",
    "\n",
    "I'd love it if you share your code afterwards so I can share it with others! You'll notice that some students have already made changes (including a Selenium implementation) which you will find in the community-contributions folder. If you'd like add your changes to that folder, submit a Pull Request with your new versions in that folder and I'll merge your changes.\n",
    "\n",
    "If you're not an expert with git (and I am not!) then GPT has given some nice instructions on how to submit a Pull Request. It's a bit of an involved process, but once you've done it once it's pretty clear. As a pro-tip: it's best if you clear the outputs of your Jupyter notebooks (Edit >> Clean outputs of all cells, and then Save) for clean notebooks.\n",
    "\n",
    "Here are good instructions courtesy of an AI friend:  \n",
    "https://chatgpt.com/share/677a9cb5-c64c-8012-99e0-e06e88afd293"
   ]
  },
  {
   "cell_type": "code",
   "execution_count": null,
   "id": "f4484fcf-8b39-4c3f-9674-37970ed71988",
   "metadata": {},
   "outputs": [],
   "source": []
  }
 ],
 "metadata": {
  "kernelspec": {
   "display_name": "Python 3 (ipykernel)",
   "language": "python",
   "name": "python3"
  },
  "language_info": {
   "codemirror_mode": {
    "name": "ipython",
    "version": 3
   },
   "file_extension": ".py",
   "mimetype": "text/x-python",
   "name": "python",
   "nbconvert_exporter": "python",
   "pygments_lexer": "ipython3",
   "version": "3.11.12"
  }
 },
 "nbformat": 4,
 "nbformat_minor": 5
}
