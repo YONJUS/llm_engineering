{
 "cells": [
  {
   "cell_type": "markdown",
   "id": "ada885d9-4d42-4d9b-97f0-74fbbbfe93a9",
   "metadata": {},
   "source": [
    "<table style=\"margin: 0; text-align: left;\">\n",
    "    <tr>\n",
    "        <td style=\"width: 150px; height: 150px; vertical-align: middle;\">\n",
    "            <img src=\"../resources.jpg\" width=\"150\" height=\"150\" style=\"display: block;\" />\n",
    "        </td>\n",
    "        <td>\n",
    "            <h2 style=\"color:#f71;\">Just before we get to the assignment --</h2>\n",
    "            <span style=\"color:#f71;\">I thought I'd take a second to point you at this page of useful resources for the course. This includes links to all the slides.<br/>\n",
    "            <a href=\"https://edwarddonner.com/2024/11/13/llm-engineering-resources/\">https://edwarddonner.com/2024/11/13/llm-engineering-resources/</a><br/>\n",
    "            Please keep this bookmarked, and I'll continue to add more useful links there over time.\n",
    "            </span>\n",
    "        </td>\n",
    "    </tr>\n",
    "</table>"
   ]
  },
  {
   "cell_type": "code",
   "execution_count": 1,
   "id": "4e2a9393-7767-488e-a8bf-27c12dca35bd",
   "metadata": {},
   "outputs": [],
   "source": [
    "# imports\n",
    "\n",
    "import requests\n",
    "from bs4 import BeautifulSoup\n",
    "from IPython.display import Markdown, display"
   ]
  },
  {
   "cell_type": "code",
   "execution_count": 2,
   "id": "29ddd15d-a3c5-4f4e-a678-873f56162724",
   "metadata": {},
   "outputs": [],
   "source": [
    "# Constants\n",
    "\n",
    "OLLAMA_API = \"http://localhost:11434/api/chat\"\n",
    "HEADERS = {\"Content-Type\": \"application/json\"}\n",
    "MODEL = \"llama3.2\""
   ]
  },
  {
   "cell_type": "code",
   "execution_count": 11,
   "id": "dac0a679-599c-441f-9bf2-ddc73d35b940",
   "metadata": {},
   "outputs": [],
   "source": [
    "# Create a messages list using the same format that we used for OpenAI\n",
    "\n",
    "messages = [\n",
    "    {\"role\": \"user\", \"content\": \"Describe some of the business applications of Generative AI\"}\n",
    "]"
   ]
  },
  {
   "cell_type": "code",
   "execution_count": 12,
   "id": "7bb9c624-14f0-4945-a719-8ddb64f66f47",
   "metadata": {},
   "outputs": [],
   "source": [
    "payload = {\n",
    "        \"model\": MODEL,\n",
    "        \"messages\": messages,\n",
    "        \"stream\": False\n",
    "    }"
   ]
  },
  {
   "cell_type": "code",
   "execution_count": 13,
   "id": "42b9f644-522d-4e05-a691-56e7658c0ea9",
   "metadata": {},
   "outputs": [
    {
     "name": "stdout",
     "output_type": "stream",
     "text": [
      "Generative AI has numerous business applications across various industries. Here are some examples:\n",
      "\n",
      "1. **Content Creation**: Generative AI can be used to generate high-quality content such as blog posts, social media posts, product descriptions, and more. This can help businesses save time and resources on content creation.\n",
      "2. **Marketing Automation**: Generative AI can be used to automate marketing campaigns by generating personalized emails, messages, and ads based on customer data and behavior.\n",
      "3. **Product Design**: Generative AI can be used to generate designs for products such as furniture, clothing, and electronics. This can help businesses speed up the design process and reduce costs.\n",
      "4. **Customer Service**: Generative AI-powered chatbots can be used to provide 24/7 customer support, answering common questions and routing complex issues to human agents.\n",
      "5. **Data Analysis**: Generative AI can be used to analyze large datasets and identify patterns and trends that may not be apparent through traditional methods.\n",
      "6. **Predictive Maintenance**: Generative AI can be used to predict when equipment is likely to fail, allowing businesses to schedule maintenance and reduce downtime.\n",
      "7. **Supply Chain Optimization**: Generative AI can be used to optimize supply chain operations by predicting demand, identifying bottlenecks, and suggesting improvements.\n",
      "8. **Financial Analysis**: Generative AI can be used to analyze financial data and predict market trends, helping businesses make more informed investment decisions.\n",
      "9. **Translation**: Generative AI-powered translation tools can be used to translate text and audio in real-time, reducing costs and improving efficiency for language translation services.\n",
      "10. **Creative Collaboration**: Generative AI can be used to facilitate creative collaboration between humans and machines, generating new ideas and concepts that can be developed further.\n",
      "\n",
      "Some specific business applications of Generative AI include:\n",
      "\n",
      "* **Chatbots**: Automate customer support and sales conversations using natural language processing (NLP) and machine learning.\n",
      "* **Personalized Recommendations**: Generate personalized product recommendations for customers based on their behavior and preferences.\n",
      "* **Predictive Analytics**: Use machine learning algorithms to predict customer churn, credit risk, or other business outcomes.\n",
      "* **Generative Design**: Use AI to generate designs for products, buildings, or infrastructure projects.\n",
      "* **Content Generation**: Use AI to generate high-quality content such as articles, blog posts, and social media posts.\n",
      "\n",
      "Overall, Generative AI has the potential to transform many aspects of business operations, from marketing and sales to product design and customer service.\n"
     ]
    }
   ],
   "source": [
    "# If this doesn't work for any reason, try the 2 versions in the following cells\n",
    "# And double check the instructions in the 'Recap on installation of Ollama' at the top of this lab\n",
    "# And if none of that works - contact me!\n",
    "\n",
    "response = requests.post(OLLAMA_API, json=payload, headers=HEADERS)\n",
    "print(response.json()['message']['content'])"
   ]
  },
  {
   "cell_type": "markdown",
   "id": "6a021f13-d6a1-4b96-8e18-4eae49d876fe",
   "metadata": {},
   "source": [
    "# First Exercise - summarizing website using ollama\n",
    "\n",
    "Hello github"
   ]
  },
  {
   "cell_type": "code",
   "execution_count": 6,
   "id": "7745b9c4-57dc-4867-9180-61fa5db55eb8",
   "metadata": {},
   "outputs": [],
   "source": [
    "import ollama\n",
    "import requests\n",
    "from bs4 import BeautifulSoup\n",
    "from IPython.display import Markdown, display\n",
    "\n",
    "MODEL = \"llama3.2\""
   ]
  },
  {
   "cell_type": "code",
   "execution_count": 11,
   "id": "23057e00-b6fc-4678-93a9-6b31cb704bff",
   "metadata": {},
   "outputs": [
    {
     "data": {
      "text/markdown": [
       "**Summary of Movies Streaming Now (2025) | Rotten Tomatoes**\n",
       "\n",
       "This website provides a list of upcoming movies scheduled to be released in 2025, along with their critical and user ratings.\n",
       "\n",
       "**Key Features:**\n",
       "\n",
       "* **Release Dates:** The website lists release dates for upcoming movies, which are expected to be available on various streaming platforms.\n",
       "* **Ratings:** Movies are rated based on their critical reception (Tomatometer score) and user reviews (user rating).\n",
       "* **Watchlist:** Users can add movies to their personal watchlist for easy access.\n",
       "\n",
       "**Movies Listed:**\n",
       "\n",
       "The website currently lists several movies, including:\n",
       "\n",
       "* \"Drop\"\n",
       "* \"The Penguin Lessons\"\n",
       "* \"Death of a Unicorn\"\n",
       "* \"The Friend\"\n",
       "* \"Sacramento\"\n",
       "* \"Last Cabin\"\n",
       "* \"Day of Reckoning\"\n",
       "* \"Marcie's\"\n",
       "* \"Jess Plus None\"\n",
       "* \"Hellbent on Boogie\"\n",
       "* \"Exterritorial\"\n",
       "* \"Dark Chronicles\"\n",
       "* \"Havoc\"\n",
       "* \"Conclave\"\n",
       "* \"Black Bag\"\n",
       "* \"Companion\"\n",
       "* \"Ash\"\n",
       "* \"The Order\"\n",
       "* \"Babygirl\"\n",
       "* \"iHostage\"\n",
       "* \"Locked\"\n",
       "* \"Captain America: Brave New World\"\n",
       "* \"Novocaine\"\n",
       "* \"A Working Man\"\n",
       "* \"Freaky Tales\"\n",
       "* \"Last Breath\"\n",
       "* \"Small Things Like These\"\n",
       "\n",
       "**Additional Information:**\n",
       "\n",
       "The website also provides links to trailers and more detailed information about each movie. Users can subscribe to the Rotten Tomatoes newsletter to receive fresh reviews, news, and updates delivered right to their inbox.\n",
       "\n",
       "Note that some movies have already been released in 2024, which is why they are listed as part of the upcoming releases for 2025."
      ],
      "text/plain": [
       "<IPython.core.display.Markdown object>"
      ]
     },
     "metadata": {},
     "output_type": "display_data"
    }
   ],
   "source": [
    "class Website:\n",
    "    def __init__(self, url):\n",
    "        self.url = url\n",
    "        response = requests.get(url)\n",
    "        soup = BeautifulSoup(response.content, 'html.parser')\n",
    "        self.title = soup.title.string if soup.title else \"No title found\"\n",
    "        for irrelevant in soup.body([\"script\", \"style\", \"img\", \"input\"]):\n",
    "            irrelevant.decompose()\n",
    "        self.text = soup.body.get_text(separator=\"\\n\", strip=True)\n",
    "\n",
    "\n",
    "system_prompt = \"You are an assistant that analyzes the contents of a website \\\n",
    "                and provides a short summary, ignoring text that might be navigation related. \\\n",
    "                Respond in markdown.\"\n",
    "\n",
    "\n",
    "def user_prompt_for(website):\n",
    "    user_prompt = f\"You are looking at a website titled {website.title}\"\n",
    "    user_prompt += \"\\nThe contents of this website is as follows; \\\n",
    "                    please provide a short summary of this website in markdown. \\\n",
    "                    If it includes prices, then summarize these too.\\n\\n\"\n",
    "    user_prompt += website.text\n",
    "    return user_prompt\n",
    "\n",
    "\n",
    "def messages_for(website):\n",
    "    return [\n",
    "        {\"role\": \"system\", \"content\": system_prompt},\n",
    "        {\"role\": \"user\", \"content\": user_prompt_for(website)}\n",
    "    ]\n",
    "\n",
    "\n",
    "def summary(url):\n",
    "    website = Website(url)\n",
    "    response = ollama.chat(\n",
    "        model = MODEL,\n",
    "        messages = messages_for(website)\n",
    "    )\n",
    "    return display(Markdown(response['message']['content']))\n",
    "\n",
    "\n",
    "summary(\"https://www.rottentomatoes.com/browse/movies_at_home/affiliates:apple-tv-plus,disney-plus,hulu,max,netflix,paramount-plus,peacock,prime-video\")"
   ]
  },
  {
   "cell_type": "code",
   "execution_count": null,
   "id": "6de38216-6d1c-48c4-877b-86d403f4e0f8",
   "metadata": {},
   "outputs": [],
   "source": []
  }
 ],
 "metadata": {
  "kernelspec": {
   "display_name": "Python 3 (ipykernel)",
   "language": "python",
   "name": "python3"
  },
  "language_info": {
   "codemirror_mode": {
    "name": "ipython",
    "version": 3
   },
   "file_extension": ".py",
   "mimetype": "text/x-python",
   "name": "python",
   "nbconvert_exporter": "python",
   "pygments_lexer": "ipython3",
   "version": "3.11.12"
  }
 },
 "nbformat": 4,
 "nbformat_minor": 5
}
